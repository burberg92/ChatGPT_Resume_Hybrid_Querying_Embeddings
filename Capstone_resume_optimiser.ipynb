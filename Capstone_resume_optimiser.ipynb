{
  "nbformat": 4,
  "nbformat_minor": 0,
  "metadata": {
    "colab": {
      "provenance": []
    },
    "kernelspec": {
      "name": "python3",
      "display_name": "Python 3"
    },
    "language_info": {
      "name": "python"
    }
  },
  "cells": [
    {
      "cell_type": "markdown",
      "source": [
        "First things first, let's get our dependencies all set!"
      ],
      "metadata": {
        "id": "NXIUOH30MjcW"
      }
    },
    {
      "cell_type": "code",
      "execution_count": null,
      "metadata": {
        "colab": {
          "base_uri": "https://localhost:8080/"
        },
        "id": "6kXVCGy7W2Ms",
        "outputId": "44060ee9-9f02-40d6-be7f-b456c4d0e64f"
      },
      "outputs": [
        {
          "output_type": "stream",
          "name": "stdout",
          "text": [
            "\u001b[2K     \u001b[90m━━━━━━━━━━━━━━━━━━━━━━━━━━━━━━━━━━━━━━━━\u001b[0m \u001b[32m73.6/73.6 kB\u001b[0m \u001b[31m1.5 MB/s\u001b[0m eta \u001b[36m0:00:00\u001b[0m\n",
            "\u001b[2K     \u001b[90m━━━━━━━━━━━━━━━━━━━━━━━━━━━━━━━━━━━━━━━━\u001b[0m \u001b[32m1.5/1.5 MB\u001b[0m \u001b[31m12.1 MB/s\u001b[0m eta \u001b[36m0:00:00\u001b[0m\n",
            "\u001b[2K     \u001b[90m━━━━━━━━━━━━━━━━━━━━━━━━━━━━━━━━━━━━━━━━\u001b[0m \u001b[32m90.0/90.0 kB\u001b[0m \u001b[31m8.4 MB/s\u001b[0m eta \u001b[36m0:00:00\u001b[0m\n",
            "\u001b[2K     \u001b[90m━━━━━━━━━━━━━━━━━━━━━━━━━━━━━━━━━━━━━━━━\u001b[0m \u001b[32m49.4/49.4 kB\u001b[0m \u001b[31m4.6 MB/s\u001b[0m eta \u001b[36m0:00:00\u001b[0m\n",
            "\u001b[?25h"
          ]
        }
      ],
      "source": [
        "!pip install openai langchain -q"
      ]
    },
    {
      "cell_type": "markdown",
      "source": [
        "mounting google drive"
      ],
      "metadata": {
        "id": "XlNLJPJqMtmj"
      }
    },
    {
      "cell_type": "code",
      "source": [
        "from google.colab import drive\n",
        "drive.mount('/content/drive')"
      ],
      "metadata": {
        "colab": {
          "base_uri": "https://localhost:8080/"
        },
        "id": "YDrIHSYxX4hi",
        "outputId": "ff06f793-82fb-4f8b-c396-f515ab8d8bda"
      },
      "execution_count": null,
      "outputs": [
        {
          "output_type": "stream",
          "name": "stdout",
          "text": [
            "Mounted at /content/drive\n"
          ]
        }
      ]
    },
    {
      "cell_type": "code",
      "source": [
        "pip install pypdf"
      ],
      "metadata": {
        "colab": {
          "base_uri": "https://localhost:8080/"
        },
        "id": "p9eQsGHSYRew",
        "outputId": "064c60f2-b784-41dc-b009-55490ee4bc45"
      },
      "execution_count": null,
      "outputs": [
        {
          "output_type": "stream",
          "name": "stdout",
          "text": [
            "Collecting pypdf\n",
            "  Downloading pypdf-3.15.0-py3-none-any.whl (270 kB)\n",
            "\u001b[?25l     \u001b[90m━━━━━━━━━━━━━━━━━━━━━━━━━━━━━━━━━━━━━━━━\u001b[0m \u001b[32m0.0/270.3 kB\u001b[0m \u001b[31m?\u001b[0m eta \u001b[36m-:--:--\u001b[0m\r\u001b[2K     \u001b[91m━━━━━━━━━\u001b[0m\u001b[90m╺\u001b[0m\u001b[90m━━━━━━━━━━━━━━━━━━━━━━━━━━━━━━\u001b[0m \u001b[32m61.4/270.3 kB\u001b[0m \u001b[31m1.9 MB/s\u001b[0m eta \u001b[36m0:00:01\u001b[0m\r\u001b[2K     \u001b[90m━━━━━━━━━━━━━━━━━━━━━━━━━━━━━━━━━━━━━━━\u001b[0m \u001b[32m270.3/270.3 kB\u001b[0m \u001b[31m5.2 MB/s\u001b[0m eta \u001b[36m0:00:00\u001b[0m\n",
            "\u001b[?25hInstalling collected packages: pypdf\n",
            "Successfully installed pypdf-3.15.0\n"
          ]
        }
      ]
    },
    {
      "cell_type": "markdown",
      "source": [
        "this loads our PDF document Ultimate Tech Resume Guide by JS Mastery"
      ],
      "metadata": {
        "id": "pov6p8M5MyuQ"
      }
    },
    {
      "cell_type": "code",
      "source": [
        "from langchain.document_loaders import PyPDFLoader\n",
        "\n",
        "loader = PyPDFLoader(\"/content/drive/MyDrive/capstone/Resume_guide.pdf\")\n",
        "pages = loader.load_and_split()"
      ],
      "metadata": {
        "id": "dGS_lY6-Yf-0"
      },
      "execution_count": null,
      "outputs": []
    },
    {
      "cell_type": "code",
      "source": [
        "#An advantage of this approach is that documents can be retrieved with page numbers.\n",
        "\n",
        "pages[0]"
      ],
      "metadata": {
        "colab": {
          "base_uri": "https://localhost:8080/"
        },
        "id": "GwhOvhwSY5bv",
        "outputId": "c7fb722b-a063-4c7c-dd80-dfe8d61617f4"
      },
      "execution_count": null,
      "outputs": [
        {
          "output_type": "execute_result",
          "data": {
            "text/plain": [
              "Document(page_content='TECH\\nRESUME\\nGUIDE\\nSoftware\\nengineers\\nknow\\nthat\\nthere\\nis\\nno\\none\\nfit-size\\nsolution\\nfor\\nanything.\\nBe \\nthat\\ndeveloping\\na\\nwebsite,\\nsolving\\nan\\nalgorithm,\\nor\\ndesigning\\nan\\narchitecture. \\nWhile\\nthis\\nguide\\npromises\\nto\\ndeliver\\ngreat\\ncontent\\nto\\nhelp\\nyou\\nace\\na\\njob\\ninterview, \\nit\\ndoesn’t\\nguarantee\\na\\njob\\nupfront\\nor\\na\\nrecruiter\\ncall\\nevery\\ntime.\\nThere\\nare\\nplenty\\nof\\nfactors\\nthat\\ncontribute\\nto\\njob\\nhunting.\\nWhile\\nfew\\nare\\nin\\nhands, \\nfew\\naren’t.\\nIt’s\\nthat\\ndead\\nsimple.\\nSo\\nwhat\\nare\\nthe\\nfactors\\nthat\\nyou\\nneed\\nto\\ntake \\ncare\\nof?\\nThere\\nare\\nplenty\\nof\\nfactors\\nthat\\ncontribute\\nto\\njob\\nhunting.\\nWhile\\nfew\\nare\\nin\\nhands,\\nfew\\naren’t.\\nIt’s\\nthat\\ndead\\nsimple.\\nSkills\\nYou\\nmust\\nhave\\nrelevant\\nskills\\nto\\napply\\nfor\\na\\nspecific\\njob.\\nExperience\\nSome\\nindustry\\nexperience\\ncan\\nmake\\nyour\\nresume\\nstand\\nout\\nmore.\\nCommunication\\nYou\\nshould\\nat\\nleast\\ncommunicate\\nwell\\nin\\nEnglish\\n(as\\nits\\ninternational\\nlanguage),\\nif\\nnot\\na\\nfluent\\nspeaker.\\nThen\\nwhat\\nare\\nthe\\nfactors\\nyou\\ncan’t\\ncontrol?\\nPosition\\nThe\\nposition\\nmight\\nhave\\nalready\\nbeen\\nfulfilled—without\\nyou\\nknowing\\nabout\\nit.\\nCompetition\\nYou\\nmight\\nhave\\na\\nstrong\\nresume\\nwith\\ngreat\\nexpertise,\\nbut\\nsomeone\\nmight\\nhave\\nmore\\nthan\\nyou\\nto\\nimpress\\nthe\\nrecruiter.\\nEspecially\\nafter\\nCovid-19,\\nyou\\nwill\\nhave\\nto\\ncompete\\nworldwide—if\\napplying\\nfor\\nremote\\nwork.\\nLocation\\nAlthough\\nmost\\nof\\nthe\\njobs\\nare\\nremote\\nthese\\ndays,\\npeople\\nwho\\nare\\nnear\\nor\\ndon’t\\nneed\\nto\\nrelocate\\nare\\npreferred\\nby\\nhiring\\nstaff.\\nSeniority', metadata={'source': '/content/drive/MyDrive/capstone/Resume_guide.pdf', 'page': 0})"
            ]
          },
          "metadata": {},
          "execution_count": 10
        }
      ]
    },
    {
      "cell_type": "markdown",
      "source": [
        "Now that we have our data loaded we can move onto splitting those documents into appropriately sized pieces!"
      ],
      "metadata": {
        "id": "FO2u_dZxfGwc"
      }
    },
    {
      "cell_type": "code",
      "source": [
        "from langchain.text_splitter import RecursiveCharacterTextSplitter\n",
        "\n",
        "text_splitter = RecursiveCharacterTextSplitter(\n",
        "    chunk_size = 1000,\n",
        "    chunk_overlap  = 20,\n",
        "    length_function = len,\n",
        ")\n",
        "\n",
        "documents = text_splitter.split_documents(pages)"
      ],
      "metadata": {
        "id": "zS2X_QFRY9yI"
      },
      "execution_count": null,
      "outputs": []
    },
    {
      "cell_type": "code",
      "source": [
        "documents"
      ],
      "metadata": {
        "colab": {
          "base_uri": "https://localhost:8080/"
        },
        "id": "Ein5hbybfvYd",
        "outputId": "c6523bf5-c153-4ade-8c8b-43bf27e8745a"
      },
      "execution_count": null,
      "outputs": [
        {
          "output_type": "execute_result",
          "data": {
            "text/plain": [
              "[Document(page_content='TECH\\nRESUME\\nGUIDE\\nSoftware\\nengineers\\nknow\\nthat\\nthere\\nis\\nno\\none\\nfit-size\\nsolution\\nfor\\nanything.\\nBe \\nthat\\ndeveloping\\na\\nwebsite,\\nsolving\\nan\\nalgorithm,\\nor\\ndesigning\\nan\\narchitecture. \\nWhile\\nthis\\nguide\\npromises\\nto\\ndeliver\\ngreat\\ncontent\\nto\\nhelp\\nyou\\nace\\na\\njob\\ninterview, \\nit\\ndoesn’t\\nguarantee\\na\\njob\\nupfront\\nor\\na\\nrecruiter\\ncall\\nevery\\ntime.\\nThere\\nare\\nplenty\\nof\\nfactors\\nthat\\ncontribute\\nto\\njob\\nhunting.\\nWhile\\nfew\\nare\\nin\\nhands, \\nfew\\naren’t.\\nIt’s\\nthat\\ndead\\nsimple.\\nSo\\nwhat\\nare\\nthe\\nfactors\\nthat\\nyou\\nneed\\nto\\ntake \\ncare\\nof?\\nThere\\nare\\nplenty\\nof\\nfactors\\nthat\\ncontribute\\nto\\njob\\nhunting.\\nWhile\\nfew\\nare\\nin\\nhands,\\nfew\\naren’t.\\nIt’s\\nthat\\ndead\\nsimple.\\nSkills\\nYou\\nmust\\nhave\\nrelevant\\nskills\\nto\\napply\\nfor\\na\\nspecific\\njob.\\nExperience\\nSome\\nindustry\\nexperience\\ncan\\nmake\\nyour\\nresume\\nstand\\nout\\nmore.\\nCommunication\\nYou\\nshould\\nat\\nleast\\ncommunicate\\nwell\\nin\\nEnglish\\n(as\\nits\\ninternational\\nlanguage),\\nif\\nnot\\na\\nfluent\\nspeaker.\\nThen\\nwhat\\nare\\nthe\\nfactors\\nyou\\ncan’t\\ncontrol?\\nPosition\\nThe\\nposition\\nmight\\nhave\\nalready\\nbeen\\nfulfilled—without\\nyou', metadata={'source': '/content/drive/MyDrive/capstone/Resume_guide.pdf', 'page': 0}),\n",
              " Document(page_content='you\\nknowing\\nabout\\nit.\\nCompetition\\nYou\\nmight\\nhave\\na\\nstrong\\nresume\\nwith\\ngreat\\nexpertise,\\nbut\\nsomeone\\nmight\\nhave\\nmore\\nthan\\nyou\\nto\\nimpress\\nthe\\nrecruiter.\\nEspecially\\nafter\\nCovid-19,\\nyou\\nwill\\nhave\\nto\\ncompete\\nworldwide—if\\napplying\\nfor\\nremote\\nwork.\\nLocation\\nAlthough\\nmost\\nof\\nthe\\njobs\\nare\\nremote\\nthese\\ndays,\\npeople\\nwho\\nare\\nnear\\nor\\ndon’t\\nneed\\nto\\nrelocate\\nare\\npreferred\\nby\\nhiring\\nstaff.\\nSeniority', metadata={'source': '/content/drive/MyDrive/capstone/Resume_guide.pdf', 'page': 0}),\n",
              " Document(page_content='Certain\\ncompanies\\nonly\\nlook\\nfor\\nspecific\\nseniority\\nroles.\\nIf\\nyou\\nare\\njust\\nstarting\\nor\\nhave\\nless\\nthan\\na\\nfew\\nyears\\nof\\nexperience,\\nyou’re\\nlikely\\nto\\nbe\\noverlooked.\\nLuck\\nLuck\\nalways\\nplays\\na\\nrole,\\ntake\\nit\\nor\\nnot.\\nTo\\nmake\\nit\\nless\\nof\\na\\nfactor,\\nyou\\ncan\\ngo\\nfor\\nreferrals.\\n(In\\nthe\\nfollowing\\nchapters,\\nI\\nwill\\nshare\\nthe\\ntips\\non\\nhow\\nto\\nget\\na\\ngood\\nreferral).\\nNow\\nyou\\nknow\\nwhat\\nit\\ntakes\\nto\\nbe\\nready\\nfor\\na\\njob/role.\\nLet’s\\nmove\\non\\nto \\nwriting\\na\\nresume\\nthan\\ncan\\nsell\\nyou\\nfor\\nthe\\nposition\\nyou\\nhave\\nbeen \\napplying\\nfor.\\nA\\ngreat\\nresume:\\nShowcases\\nrare\\nand\\nvaluable\\nskills\\nthat\\nare\\nexactly\\nwhat\\nthe\\njob \\nneeds.\\nIt’s\\nbuilt\\non\\nyears\\nof\\nexperience\\nyou\\ngathered\\nthat\\nmakes\\nyou\\nstand \\nout\\nfrom\\nthe\\ncrowd.\\nIt\\nshows\\na\\nsolid\\nprogression\\nthroughout\\nyour\\njourney.\\nYou\\ntake\\nupon \\nnew\\nroles/challenges/responsibilities\\nand\\nare\\nnot\\nafraid\\nof\\nlearning \\nnew\\nthings.\\nRemember\\nthat\\npreparation\\nand\\npersistence\\nwill\\nmake\\na\\ndifference. \\nOne\\nwithout\\nthe\\nother\\nis\\nan\\ninvitation\\nto\\nrejection.\\nTo\\nget\\nyour\\ndream\\njob, \\nyou\\nhave\\nto\\ndo\\nthe\\nhard\\nwork.', metadata={'source': '/content/drive/MyDrive/capstone/Resume_guide.pdf', 'page': 1}),\n",
              " Document(page_content='do\\nthe\\nhard\\nwork.\\nStaying\\npositive,\\nfocused,\\nand\\ncreative \\nwill\\nhelp\\nyou\\nclimb\\nthe\\nstaircase\\nof\\nvictory.\\nHow\\nto\\nbe\\na\\nKickass\\nNew\\nSoftware\\nEngineer\\nguide \\n(If\\nyou\\nget\\na\\npage\\nnot\\nfound,\\nlog\\ninto\\nyour\\nlinkedin\\naccount\\nfirst)\\nKeep\\nlooking\\nfor\\nsome\\ninspirations\\nor\\nstories\\nabout\\nhow\\npeople\\nwent \\nfrom\\nground\\nzero\\nto\\nsoftware\\nheroes.\\nIt\\nwill\\nnot\\njust\\nboost\\nyour\\nmorale \\nbut\\nalso\\nguide\\nyou\\nlike\\na\\nmap.\\nYou\\nknow,\\none\\ncan\\nlearn\\na\\nlot\\nfrom\\nother \\nexperiences.\\nNow\\nwe\\nunderstand\\nwhat\\nit\\ntakes\\nbefore\\ncreating\\na\\nresume\\nit’s\\ntime\\nto\\nwrite\\nthat \\nresume.', metadata={'source': '/content/drive/MyDrive/capstone/Resume_guide.pdf', 'page': 1}),\n",
              " Document(page_content='How\\ndo\\nyou\\nwrite\\na\\ngood\\ndeveloper \\nresume?\\nThese\\nare\\nsome\\nessential\\npoints\\nthat\\nyou\\nmust\\ntake\\ninto\\nconsideration\\nwhile \\nwriting\\nyour\\nresume:\\n1.\\nYears\\nof\\nExperience:\\nHow\\nlong\\nhave\\nyou\\nbeen\\nworking?\\nThe\\nrecruiter\\nwill\\ncheck\\nyour\\neducation\\nand\\nyear\\nof\\npassing\\nto\\ncalculate\\nhow\\nlong \\nit\\nhas\\nbeen\\nfor\\nyou?\\nThey\\nwill\\ninternally\\nmatch\\nthese\\nyears\\nwith\\nthe\\nyears\\nof \\nexperience\\nthey\\nneed.\\nThey\\nwill\\nalso\\nevaluate\\nyou\\nwith\\nother\\ncandidates.\\nThe \\nmore\\nexperience\\nyou\\nhave,\\nthe\\nmore\\nare\\nyour\\nchances\\nof\\ngetting\\ninto\\nthe\\n*Yes \\npile*\\nof\\nresumes.\\nIf\\nyou\\nmake\\nthis\\ninfo\\nhard\\nto\\nfind,\\nyou\\nmight\\nend\\nup\\nin\\nthe\\n*Reject\\npile*.\\nMake\\nsure \\nto\\nprovide\\ntransparent\\ninformation.\\n2.\\nRelevant\\nTechnologies:\\nHow\\nmuch\\nrelevant\\nexperience\\ndo\\nyou\\nhave?\\nE.g.\\nIf\\nyou’re\\napplying\\nfor\\na\\nFrontend\\nrole\\nand\\nknow\\na\\nlittle\\nof\\nbackend\\nstuff, \\nrecruiters\\nwill\\nprioritize\\nyou\\nover\\nother\\napplicants\\nthat\\nonly\\nknow\\nfrontend.\\n3.\\nWork\\nExperience:\\nHow\\nmuch\\nrelevant\\nwork\\nexperience\\ndo\\nyou\\nhave?\\nDo\\nyou\\ncome\\nacross\\nas\\nsomeone\\nwho\\nhas\\nconsistently', metadata={'source': '/content/drive/MyDrive/capstone/Resume_guide.pdf', 'page': 2}),\n",
              " Document(page_content=\"has\\nconsistently\\ndelivered\\nthe\\nimpact?\\nDon’t\\nmisunderstand\\nthe\\nwork\\nexperience\\nwith\\nthe\\nyear\\nof\\nexperience.\\nWhile\\nthe \\nyear\\nof\\nexperience\\nis\\nthe\\ntime\\nyou\\nhave\\nspent\\nso\\nfar,\\nthe\\nwork\\nexperience\\nis\\nthe \\nimpact\\nyou\\nhave\\ndelivered\\nin\\nthe\\nentire\\nindustry.\\nYou\\nmight\\nhave\\nsolved\\na\\ncomplex\\nproblem\\nin\\nyour\\njob/internship\\nor\\neven\\na \\nfreelance\\nproject.\\nBe\\nthat\\nbuilding\\na\\nhighly\\nsecure\\nAPI,\\ncatchy\\nfrontend\\nwebsite, \\nor\\nmarvelous\\nUI/UX\\narchitecture.\\nIt's\\nall\\nmeasured\\nin\\nyour\\nwork\\nexperience.\\nAnother\\nawesome\\nthing\\nyou\\ncan\\ninclude\\nin\\nthis\\nis\\nyour\\nopen-source\\nwork.\\nHave \\nyou\\ncontributed\\nto\\nany\\nopen-source\\nproject\\nwhich\\nis\\nfamous\\nand\\nwidely\\nused?\", metadata={'source': '/content/drive/MyDrive/capstone/Resume_guide.pdf', 'page': 2}),\n",
              " Document(page_content='4.\\nGround\\nRules:\\nWe\\nneed\\nto\\nfollow\\na\\nfew\\nthings\\nto\\nwrite\\na\\nprofessional\\nresume.\\nMake\\nsure\\nyour \\nresume\\nfollows\\nthese\\ntraditional\\npoints:\\nGood\\ngrammar\\nand\\nNo\\ntypos\\nYour\\nresume\\nrepresents\\nyou.\\nIt\\nhas\\nto\\nbe\\nthe\\nbest.\\nIf\\nyou\\nallow\\ntypos\\nor\\npoor \\ngrammar,\\nit\\nwill\\nreflect\\nyour\\npersonality\\ncarelessly—someone\\nwho\\ndoesn’t\\npay \\nattention\\nto\\ndetails\\nor\\ndoesn\\'t\\nhave\\na\\ngood\\ncommand\\nof\\nthe\\nlanguage.\\nUse\\nfree\\nspell-checking\\ntools\\nand\\ngrammar\\nchecking\\ntools\\nsuch\\nas\\nGrammarly.\\nEven\\nbetter\\nis\\nto\\nask\\npeople\\nto\\nre-read\\nyour\\nresume.\\nBasic\\ncontact\\ndetails\"\\nInclude\\nyour\\nemail\\naddress\\nand\\nrelevant\\ncontact\\ninformation,\\nlike\\nphone\\nnumber, \\ncity\\n&\\ncountry\\nwhere\\nyou\\nlive,\\nat\\nthe\\ntop.\\nKeep\\nit\\nshort.\\nYou\\ndon’t\\nhave\\nto\\nadd\\nyour \\nfull\\naddress\\nor\\nother\\nunnecessary\\ndetails.\\nDates\\nin\\nreverse\\nchronological\\norder\"\\nPoint\\nyour\\nwork\\nand\\neducation\\nexperiences\\nwith\\nprecise\\ndates.\\nList\\nthem\\nfrom\\nthe \\nlatest\\non\\nthe\\ntop\\nto\\nearlier\\nones\\nunderneath\\nit.\\nDon’t\\ninclude\\nphotos\\nor\\nnon-required\\npersonal\\ninformation.\\nMany\\npeople\\nmake', metadata={'source': '/content/drive/MyDrive/capstone/Resume_guide.pdf', 'page': 3}),\n",
              " Document(page_content='Many\\npeople\\nmake \\nthis\\nmistake.\\nIncluding\\nphotos\\nor\\npersonal\\ninformation,\\nlike\\ndate\\nof\\nbirth,\\nrelationship\\nstatus,\\nand\\nreligion,\\ncreates\\nbias.\\nIt’s\\nabout\\nyour\\nskills\\nand\\nnot\\nlooks.\\nTwo\\nPages\\nor\\nless\"\\nIt’s\\nnot\\na\\nstrict\\nrule,\\nbut\\nwise\\nto\\nfollow.\\nIf\\nyou’re\\na\\nfresh\\ngrad\\nor\\nsomeone\\nwith\\n1\\n-\\n2\\nyears\\nof\\nexperience,\\nit’s\\nnot\\nexpected \\nfrom\\nyou\\nto\\nfill\\ntwo\\npages.\\nA\\none-page\\nresume\\nis\\nenough\\nhere.\\nYou\\ncan\\ngo\\nfor\\na\\ntwo-page\\nresume\\nif\\nyou\\nhave\\nample\\nwork\\nexperience\\nthat \\ncounts.\\nStill,\\nthe\\nmax\\nlimit\\nshould\\nbe\\ntwo\\npages.\\nRecruiters\\ndon’t\\nhave\\ntime\\nto\\ngo \\nthrough\\nyour\\n3-5\\npage\\nresume\\nin\\na\\npile\\nof\\n100+\\nresumes.\\n5.\\nSimplicity\\nand\\nConsistency', metadata={'source': '/content/drive/MyDrive/capstone/Resume_guide.pdf', 'page': 3}),\n",
              " Document(page_content='Resumes\\nthat\\nare\\nsimple,\\nconcise,\\nand\\neasy\\nto\\nread\\nwill\\nbe\\nread\\nmore.\\nWriting \\nwell\\nis\\nan\\nunderrated\\nskill\\nin\\na\\nresume.\\nClear,\\nneat,\\nand\\nconsistent\\nformatting: \\nUse\\nthe\\nsame\\nformatting,\\nfont\\nsize,\\nand\\nfont\\nfamily\\nthroughout\\nthe \\nresume.\\nIt\\nhelps\\nfor\\na\\nsmooth\\nread.\\nBullet\\npoints\\n\\x85\\nShort\\nsentences\\nwith\\nbullet\\npoints\\nare\\neasier\\nto\\nread\\nover\\nlong,\\noverly\\nverbose \\nparagraphs.\\nBullets\\npoints\\nare\\neasy\\nto\\nscan\\nfor\\nrecruiters.\\nThey\\nare\\nused\\nto\\nit.\\nAvoid\\nsub-bullet\\npoints.\\nIt\\nclutters\\nyour\\nresume,\\nmaking\\nit\\nharder\\nto\\nread.\\nAvoid\\ndashes\\n(-)\\nfor\\nbullet\\npoints\\ntoo.\\nIt\\nlooks\\nout\\nof\\nplace\\nand\\ndoesn’t\\nstand\\nout \\nwell\\nat\\nfirst\\nglance\\nover\\nbullet\\npoints.\\nDate\\nformats\\nFormat\\nlike\\n08/07\\n-\\n20/12\\nis\\nhard\\nto\\nunderstand.\\nThe\\nreviewer\\nhas\\nto\\nthink\\nover \\nthe\\ndate,\\n“Oh,\\nit’s\\nfrom\\nthe\\n8th\\nof\\n2007\\nto\\nthe\\n20th\\nof\\n2012”.\\nThe\\nyear\\nis\\nnot \\ndifferentiated\\nfrom\\nthe\\ndate.\\nInstead,\\ndirectly\\nuse\\nthe\\nstandard\\nformat\\n—\\nAugust\\n2007\\n-\\nDecember\\n2012.\\nEasy \\nto\\nread\\nin\\nseconds.\\nDon’t\\nforget\\nto\\nstick\\nwith\\nthe\\nsame\\nformat', metadata={'source': '/content/drive/MyDrive/capstone/Resume_guide.pdf', 'page': 4}),\n",
              " Document(page_content='the\\nsame\\nformat\\nthroughout\\nthe\\nresume.\\nResume\\nformat\\nDo\\nnot,\\nI\\nrepeat,\\ndo\\nnot\\nsend\\nany\\nformat\\nother\\nthan\\nPDF.\\nFormats\\nlike\\n.doc,\\n.rtf\\ndisplay\\ncontent\\ninconsistently\\non\\ndifferent\\nmachines.\\nWhat \\nyou\\nsee\\nmight\\ndiffer\\nfrom\\nwhat\\nthe\\nrecruiter\\nsees.\\nYou\\ndon’t\\nknow\\nreviewers/recruiters’\\nmachine\\nspecifications,\\ndo\\nyou?\\nOther \\nInformation\\nAvoid\\nthat\\ntrivial\\ninfo\\nthat\\ndoesn’t\\nbring\\nvalue\\nto\\nyour\\nresume.\\nIf\\nyou\\nhave\\nsomething\\nimportant\\nthat\\ncan\\nhelp\\nyou\\nstand\\nout,\\ne.g.,\\nyour\\nschool\\n& \\nachievements,\\nmaybe\\nyou\\npresented\\nas\\na\\nleader\\nof\\nyour\\nbatch\\nin\\nyour\\ncollege,\\nor \\nthat\\nuniversity\\ncompetition—both\\ntechnical\\nand\\nnon-technical\\n(sports),\\nadd\\nit\\nat \\nthe\\nend\\nof\\nthe\\nresume.', metadata={'source': '/content/drive/MyDrive/capstone/Resume_guide.pdf', 'page': 4}),\n",
              " Document(page_content='After\\nthe\\ngeneralized\\npoints\\nof\\nthe\\nresume\\ncomes\\nits\\nstructure.\\nLet’s\\nunderstand \\nhow\\nto\\nstructure\\na\\nresume:\\nThere\\nare\\ntwo\\ntypes\\nof\\nsoftware\\ndevelopers:\\none\\nwho\\nhad\\ntheir\\nfirst\\njob\\nand\\none \\nlooking\\nto\\nland\\na\\njob.\\nYou’ll\\nwant\\nto\\nstructure\\nyour\\nresume\\ndifferently\\ndepending \\non\\nwho\\nyou\\nare.\\nFor\\nthose\\nwho\\nhad\\na\\njob,\\nyour\\nwork\\nexperience,\\nprofessional\\nskills,\\nand\\nthe \\ntechnologies\\nyou\\nworked\\nin\\nthat\\ncompany\\nmatter\\non\\nyour\\nresume.\\nWhile\\nfor\\nthe \\nnew\\ngrad,\\nit’s\\ntheir\\ninternship,\\nopen-source\\ncontribution,\\nor\\na\\npersonal\\nproject\\nthat \\nhelps\\nthem\\njump\\nout\\nof\\nthe\\ncrowd.\\nWhen\\nyou’re\\na\\nstudent\\nor\\nnew\\ngrad,\\nyou\\noften\\nfeel\\nyou\\nhave\\nlittle\\nto\\nno \\nexperience\\nto\\nshow.\\nEven\\nthough\\nthat’s\\nthe\\ncase,\\nyou\\ncan\\nalways\\nmake\\nthe\\nmost \\nof\\nwhat\\nyou\\nhave.\\nStart\\nbuilding\\npersonal\\nprojects.\\nGo\\nfor\\nsome\\nfreelancing \\nprojects.\\nApply\\nfor\\ninternships.\\nYou\\ncan\\ndo\\nanything\\nas\\nyou’re\\njust\\nstarting!\\nHere\\nare\\nthe\\nexperiences\\nthat\\ncatch\\nthe\\neyes\\nof\\npeople\\nreviewing\\nyour\\nresume \\nthe\\nmost,\\nin\\npriority\\norder:\\n1.\\nReal-world\\nwork', metadata={'source': '/content/drive/MyDrive/capstone/Resume_guide.pdf', 'page': 5}),\n",
              " Document(page_content=\"1.\\nReal-world\\nwork\\nsoftware\\ndevelopment\\nexperience\\n\\x83\\nIf\\nyou\\nhave/had\\nbeen\\nworking\\nas\\na\\npart-time\\nor\\nfull-time\\ndeveloper,\\nlist\\nit\\nand\\nyour \\nachievements.\\nShow\\nhow\\nyou\\ndelivered\\nand\\nprogressed\\nin\\nyour\\ncareer.\\n2.\\nInternships\\n\\x83\\nYou\\ncan\\nattract\\nattention\\nwith\\nthe\\ninternships\\non\\nyour\\nresume.\\nBut\\ndon’t\\nforget\\nthat \\nthere\\nwill\\nbe\\nmany\\npeople\\nwith\\ninternships\\nwhile\\napplying\\nto\\nlarge\\ntech \\ncompanies.\\nSpecify\\nyour\\ncontribution\\nand\\nresults\\nfrom\\nthe\\ninternships.\\n3.\\nOpen\\nSource\\nProjects\\nIf\\nyou\\nhave\\ncreated\\na\\nproject\\nwith\\nmany\\ncontributors,\\nshow\\nit\\noff.\\nIf\\nyou\\ncontribute\\nto\\na\\ncertain\\nopen-source\\nproject\\nfrequently,\\nshow\\nit\\noff.\\nIf\\nyou\\nhave\\ntaken\\npart\\n&\\ncontributed\\nas\\nan\\nopen-source\\ncontributor\\nin\\nany \\norganization,\\nshow\\nit\\noff.\\nIf\\nyou\\nare\\nnot\\nin\\nany\\nof\\nthese\\ncategories,\\nit's\\ntime\\nto\\ndo\\nsomething.\\nFind\\na\\nproject, \\njoin\\nan\\norganization\\nor\\ncreate\\nsomething\\non\\nyour\\nown.\\n4.\\nSchool/College\\nDetails\\nEspecially\\nif\\nyou\\nhave\\nattended\\na\\nhighly\\nprestigious\\nschool/college \\nand\\nhave\\nhigh\\ngrades,\\nthis\\ncan\\nbe\\na\", metadata={'source': '/content/drive/MyDrive/capstone/Resume_guide.pdf', 'page': 5}),\n",
              " Document(page_content='this\\ncan\\nbe\\na\\nremarkable\\naddon.', metadata={'source': '/content/drive/MyDrive/capstone/Resume_guide.pdf', 'page': 5}),\n",
              " Document(page_content=\"5.\\nProjects\\nHave\\nyou\\nbuilt\\nany\\nproject\\nwhich\\nhas\\nsome\\ngreat\\nfunctionalities?\\nDo\\nyou\\nhave\\nsomething\\nthat\\ncan\\nshow\\nthe\\nimpact\\nor\\nmetrics\\nof\\nyour\\nProject?\\nYou\\ncan\\nlist\\nyour\\ncreative,\\ncomplex\\nprojects\\nin\\nthe\\nprojects\\nsection\\nof \\nyour\\nresume.\\nLink\\nthe\\nsource\\ncode\\non\\nGithub\\nwith\\na\\ngood\\nREADME \\n.\\n6.\\nTutoring\\nor\\nLeadership:\\nHave\\nyou\\nbeen\\nsome\\npart\\nof\\nNGOs\\nwhere\\nyou\\ntaught\\nsome\\nprogramming?\\nOr\\nyou\\nmight\\nhave\\ntaken\\nupon\\nleadership\\nin\\nyour\\ncollege\\nwhere\\nyou\\nled\\nyour\\nbatch.\\nAnything\\nthat\\nyou \\nhave\\ncollaboratively\\ndone\\nto\\ndo\\na\\nproject\\nor\\nteaching.\\nIt\\nshows\\nyour\\nteam's\\nskills\\n&\\nproficiency\\nin\\nthe\\nfield.\\nDon’t\\nmiss\\nadding\\nthat.\\nA\\nnew\\ngrad\\nresume\\nstructure:\\n1.\\nExperience\\n2.\\nProjects\\n3.\\nEducation\\n&\\nCertification\\n4.\\nLanguages\\n&\\nTechnologies\\n5.\\nInterests\\nFit\\nall\\nthese\\non\\none\\npage.\\nAs\\nyou\\nhave\\nmore\\nworking\\nexperience,\\na\\nsecond\\npage\\nwill\\nmake\\nsense.\\nHow\\ncan\\nnew\\ngrads\\nand\\ninterns\\ngrab\\nthe\\nattention\\nof\\nrecruiters?\\nSebastian\\nPrieto\\nTovar\\nand\\nClaire\\nTaylor\\nhave\\nrecruited\\nhundreds\\nof\\nstudents\\nand\\ninterns\\nfor\", metadata={'source': '/content/drive/MyDrive/capstone/Resume_guide.pdf', 'page': 6}),\n",
              " Document(page_content='and\\ninterns\\nfor\\nUber\\nand \\nother\\ntech\\ncompanies.\\nHere’s\\nthe\\nadvice\\nthey\\nhave\\nfor\\npeople\\nstarting:\\nWe\\nalways\\ntell\\nstudents\\nto\\nread\\nthe\\njob\\ndescription,\\nthen\\namend\\ntheir\\nresume\\naccordingly.\\nAnd\\nreach \\nout\\ndirectly\\nto\\nthe\\nrecruiter\\nwhen\\nyou\\ncan.\\nWe\\nlook\\nfor\\nyour\\nstudies,\\nrelevant\\ncourses,\\nand\\nwhat\\nyou’re\\nbest\\nat\\nwith\\nstudies\\non\\na\\nresume.\\nWe\\nalso\\ncare\\nabout\\nextracurricular\\nactivities,\\nhackathons,\\nworking\\nin\\nteams\\noutside\\nschool,\\napps,\\nwebsites,\\nand\\nother\\ncool\\nthings\\nyou\\ncreated\\noutside\\nschool.\\nDo\\nspend\\nplenty\\nof\\ntime\\npreparing\\nfor\\nthe\\ninterviews\\nthemselves.\\nRead\\nabout\\nthe\\ncompany,\\nwatch\\nthe\\nvideos,\\nlearn\\nabout\\nthe\\nculture,\\nread\\nstories\\nabout\\nemployees,\\nand\\nunderstand\\nthe\\njob\\ndescription.\\nWork\\nExperience\\nstructure:\\n1.\\nWork\\nExperience\\nat\\nor\\nnear\\nthe\\ntop\\nof\\nthe\\npage\\nYour\\ncurrent\\ntitle,\\ncompany,\\nand\\npast\\nfew\\nyears\\nof \\nexperience', metadata={'source': '/content/drive/MyDrive/capstone/Resume_guide.pdf', 'page': 6}),\n",
              " Document(page_content='2.\\nHave\\na\\nLanguages\\nand\\nTechnologies\\nsection\\non\\nthe\\nfirst\\npage.\\nList\\nthings\\nyou\\nare\\nan\\nexpert\\nor,\\nat \\nthe\\nvery\\nleast,\\nproficient\\nat\\nin\\norder.\\nMention\\nthe\\nlanguages\\nand\\nframeworks\\nthat\\nthe\\njob\\ndescription \\nmentions.\\nDon’t\\nbother\\nlisting\\nnon-relevant\\ntechnologies\\nlike\\nJira\\nor\\nTrello.\\n3.\\nIf\\nyou\\nhave\\nspent\\na\\nlong\\ntime\\nat\\none\\nworkplace.List\\nkey\\nprojects\\nyou\\ndeveloped\\nand\\nshipped.\\nYou\\nwould\\nlike\\nto\\nmention\\nroles\\nor\\nresponsibilities\\nyou\\ntake\\nupon\\npromotion,\\nif\\nany.\\nIt\\nshows\\nprogression.\\nWrite\\nall\\nthese\\nin\\na\\nnew\\nsub-work\\nsection.\\n4.\\nEducation\\ndetails\\nIt\\nbecomes\\nless\\nimportant\\nas\\nyou\\nprogress\\nin\\nyour\\ncareer.\\nIf\\nyou\\nhave\\nless\\nthan\\n1-3\\nyears\\nof \\nexperience,\\nit’s\\ngood\\nto\\ngo\\nwith.\\nWith\\nmore\\nexperience,\\nyou\\nwould\\nlike\\nto\\nfocus\\nmore\\non\\nwork \\nexperience\\nthan\\npast\\neducation\\ndetails.\\n5.\\nCertifications\\nList\\nthe\\nrelevant\\ncertification\\nrelated\\nto\\nthe\\njob\\nindustry\\nbelow\\nthe\\nwork\\nexperience.\\nMake\\nsure\\nthese \\ncertifications\\nshow\\nsome\\nquality.\\nTrivial\\ncertification,\\nlike\\nLinkedIn\\ncertification,\\ndoesn’t\\nadd', metadata={'source': '/content/drive/MyDrive/capstone/Resume_guide.pdf', 'page': 7}),\n",
              " Document(page_content=\"doesn’t\\nadd \\nsignificance.\\n6.\\nProjects\\nThe\\nmore\\nexperience\\nyou\\nhave,\\nthe\\nless\\nrelevant\\noutside-work\\nprojects\\ntend\\nto\\nbecome.\\nList\\nonly \\nthose\\nprojects\\nthat\\nare\\noutstanding\\nin\\nthe\\nextra\\ncurriculum\\nsection.\\n7.\\nInterests\\nPoint\\nout\\na\\nfew\\nthings\\nthat\\ninterest\\nyou\\nto\\nmake\\nthe\\nresume\\nmore\\n“human.”\\nKeep\\nit\\nshort.\\nAs\\na\\nrule\\nof \\nthumb,\\navoid\\nlisting\\nyour\\nexpertise\\nlevel.\\nInstead,\\nlist\\nonly\\nlanguages\\nyou\\nfeel\\nproficient\\nwith,\\nand\\nlist \\nyour\\nmost\\nvital\\nlanguages\\nand\\ntechnologies\\nfirst.\\nThere\\nis\\na\\nspecial\\nsection\\nthat\\nhas\\ngained\\ndifferent\\nopinions\\nfrom\\ndifferent\\npeople.\\nGuess?\\nYes,\\nit's\\nthe\\nsummary\\nsection!\\nDo\\nyou\\nneed\\nto\\nhave\\na\\nsummary\\nsection?\\nMany\\nresumes\\nstart\\nwith\\na\\nsummary\\nor\\nprofile\\nsection\\nat\\nthe\\ntop.\\nHere\\nis\\na\\nthing:\\nrecruiters\\nor\\nhiring \\npeople\\nbarely\\nread\\nthis\\nsection\\nat\\nfirst\\nscan.\\nThey\\nonly\\ndo\\nso\\nwhen\\nthey\\nhave\\ndecided\\nto\\nproceed\\nwith \\nyour\\napplication.\\nFor\\nless\\nexperienced\\ncandidates,\\nit’s\\nnot\\nwise\\nto\\nhave\\nthis\\nsection\\nunless\\nyou \\ncustomize\\nit\\nfor\\njob\\nlisting,\\nshowing\\nhow\\na\\ngreat\\nfit\", metadata={'source': '/content/drive/MyDrive/capstone/Resume_guide.pdf', 'page': 7}),\n",
              " Document(page_content=\"how\\na\\ngreat\\nfit\\nyou\\nare!\\nSo,\\nwhere\\nthe\\nsummary\\nsection\\ncan\\nbe \\nhelpful?\\nSenior/Standout\\nprofile:\\nDescribe\\nyour\\nmotivation,\\nwhat\\nyou’re\\nlooking\\nfor,\\nand\\nyour\\nyear\\nof\\nexperience.\\nRemote\\nposition:\\nIf\\nyou’re\\nlooking\\nfor\\na\\nfully\\nremote\\nposition,\\nthe\\nsummary\\nsection\\ncomes\\nin\\nhandy.\\nYou\\ncan\\nclarify\\nthat\\nin\\nthe\\nsection.\\nRole\\nchange:\\nIf\\nyou\\nare\\nsomeone\\nfrom\\na\\nnon-technical\\nbackground\\nwho\\nwants\\nto\\nswitch\\nto\\na\\ntechnical \\ncareer,\\nhaving\\na\\nsummary\\nspecifying\\nyour\\nmotto\\nwill\\nbe\\nvery\\nhelpful.\\nSo\\nif\\nyou\\ndecide\\nto\\ngo\\nwith\\nit,\\nmake\\nsure\\nyour\\nsummary\\nsection\\nisn’t\\ntoo\\nshort\\nor\\ntoo\\nlong.\\nSo\\nfar,\\nwe\\nhave\\ntalked\\nabout\\nthe\\nresume's\\ngeneral\\npart\\nand\\nits\\nstructure.\\nLet’s\\nfocus\\non\\nthe\\ncrucial\\npart \\nof\\na\\nresume,\\ni.e.,\\nWork\\nExperience.\", metadata={'source': '/content/drive/MyDrive/capstone/Resume_guide.pdf', 'page': 7}),\n",
              " Document(page_content='How\\nto\\nstand\\nout\\nfrom\\nthe\\nrest\\nwith\\nyour\\nwork \\nimpact?\\nWhile\\nlisting\\nyour\\nwork\\nand\\nprojects,\\nfocus\\non\\nwhat\\nyou\\nachieved\\ninstead\\nof\\nwhat\\nyou\\ndid. \\nYou\\nwant\\nto\\nconvey\\nthat\\nyou’re\\nself-sufficient\\nand\\nthat\\nyour\\nwork\\nhas\\nimpacted\\nthe\\nteam\\n&\\nthen\\nthe \\ncompany.\\nYou’re\\nwell\\naware\\nof\\nyour\\nvaluable\\ncontribution.\\nBut\\nhow\\nto\\nstand\\nout?\\nThere\\nis\\na\\nsimple \\nformula\\nthat\\nGoogle\\nrecommends:\\nAccomplished\\n[X]\\nas\\nmeasured\\nby\\n[Y]\\nby\\ndoing\\n[Z]\\nEffective\\nresumes\\nshould\\ncontain\\ntwo\\nthings:\\nResponsibilities\\nand\\nAccomplishments. \\nTo\\nstand\\nout\\nfrom\\nthe\\ncrowd,\\nyou\\nmust\\npoint\\nout\\nhow\\nyou\\nconsciously\\nand\\nproactively\\nadded\\nvalue \\nthrough\\nyour\\nwork.\\nEdit\\nyour\\nachievements\\nwith\\nthese\\npoints:\\n1.\\nUser\\nNumbers \\nQuantify\\nyour\\nimpact\\nwherever\\nyou\\ncan.\\nInstead\\nof\\nsaying,\\n“Built\\na\\ntool\\nwidely\\nadopted\\nby\\nthe\\ncompany,”\\nsay,\\n“Led\\na\\nteam\\nof\\n3\\ndevelopers\\nto \\nbuild\\na\\ndependency\\ninjection\\nframework\\nadopted\\nby\\n15\\nteams\\nand\\nall\\n50+\\ndevelopers\\nat\\nthe \\ncompany.”\\nNumbers\\ncan\\nbe\\nanything:\\nNumber\\nof\\npeople\\non\\nyour\\nteam\"\\nlines\\nof\\ncode\"', metadata={'source': '/content/drive/MyDrive/capstone/Resume_guide.pdf', 'page': 8}),\n",
              " Document(page_content='lines\\nof\\ncode\"\\ncode\\ncoverage\\npercentage\\nbefore\\nand\\nafter\"\\nnumber\\nof\\nusers\"\\nnumber\\nof\\ninstalls\"\\nratings\\n2.\\nUse\\nactive\\nlanguage\\nShow\\nwhat\\nyou\\nhave\\ndone\\nand\\nhow\\nyou\\nhave\\nbeen\\nproactive.\\nUse\\nactive\\nverbs\\nlike\\n“led,”\\n“managed,” \\n“improved,”\\n“developed,”\\nand\\n“rolled\\nout.”\\n3.\\nSpecific\\nlanguages\\n&\\ntechnologie\\n\\x7f\\nMentioning\\ntechnologies\\nin\\nyour\\nwork\\nexperience\\nis\\npowerful.\\nEnsure\\nthese\\ntechnologies\\noverlap\\nwith \\nthe\\nlanguages\\nand\\ntechnologies\\nyou\\nmentioned\\nin\\nthe\\nstandalone\\nsection.\\n4.\\nKeyword\\nstuffing\\nResume\\nfiltering\\nis\\ndone\\nby\\ndiscarding\\nresumes\\nthat\\ndon’t\\nhave\\nspecific\\nkeywords.\\nA\\nworkaround\\nis\\nto\\nread\\nthe\\njob\\ndescription\\nand\\npick\\nall\\nthe\\nnecessary\\nkeywords.\\nAn\\nexcellent\\nway\\nto\\nkeep\\nthese\\nkeywords\\nwithout\\nlosing\\nprofessionalism\\nis\\nto\\nstructure\\nthem\\nin\\nthe \\n“languages\\nand\\ntechnicals”\\nsection,\\nwhere\\nyou\\nlist\\ntechnologies\\nyou’re\\nfamiliar\\nwith\\nor\\nrelevant\\nto\\na \\njob.\\nWhen\\nit\\ncomes\\nto\\ntechnical\\nexperiences,\\nsome\\npeople\\nfalsely\\nstate\\nthings.\\nSome\\nmight\\neven\\nshy \\naway.\\nDon’t\\nclaim\\nuntrue\\nthings,', metadata={'source': '/content/drive/MyDrive/capstone/Resume_guide.pdf', 'page': 8}),\n",
              " Document(page_content='untrue\\nthings,\\nbut\\ndo\\naim\\nto\\npaint\\na\\ngreat\\npicture\\nof\\nyourself.\\nHere\\nare\\na\\nfew\\ntips\\nfor\\nyou:\\n1.\\nTalk\\nabout\\nyourself,\\nnot\\nyour\\nteam.\\nAvoid\\nusing\\n“we.”\\nThe\\nresume\\nis\\nabout\\nyou\\nand\\nnot\\nyour\\nteam.\\nThe\\nhiring\\nteam\\nwants\\nyou!\\nAlways\\nuse\\nthe\\nfirst-person \\napproach.\\nIn\\nmost\\ncases,\\nyou\\ncan\\ndrop\\nthe\\n“I.”\\n2.\\nBe\\nconcise\\nbut\\nnot\\nhumble\\nand\\ndon’t\\nhide\\nyour\\nachievements.\\nWhen\\nin\\ndoubt,\\ninflating\\nthem\\non\\nthe\\nborderline\\nwill\\nhurt\\nless\\nthan\\nhiding\\nthem.\\nYou\\nnever\\nknow\\nhow \\nthese\\nsmall,\\nimpactful\\nachievements\\ncan\\nhelp\\nyou\\nstand\\nout\\nfrom\\nthe\\ncompetitive\\ncrowd.', metadata={'source': '/content/drive/MyDrive/capstone/Resume_guide.pdf', 'page': 8}),\n",
              " Document(page_content='3.\\nSide\\nprojects\\n&\\nOpen\\nSource\\ncontribution\\nMention\\nthese\\nin\\nyour\\nproject\\nsection\\nwith\\nthe\\nimpact-result\\ncontribution\\nmodel.\\nProvide\\nGitHub\\nsource \\ncode\\nlinks\\nwith\\na\\nproper\\nexplanation\\nof\\nhow\\nyour\\nproject\\nworks.\\nCreate\\nnice\\nREADMEs\\ncontaining \\nproject\\ndetails\\nwith\\nthe\\ninstallation\\nprocess.\\n4.\\nExtracurricular\\nactivites.\\nDo\\ntalk\\nabout\\nthese\\nactivities\\nat\\nthe\\nend\\nof\\nthe\\nsection.\\nMaybe\\nyou’re\\na\\ntechnical\\nwriter\\nor\\ncontent \\ncreator\\non\\nsocial\\nmedia—\\nmention\\nit.\\nProvide\\ntwo\\nlinks\\nto\\nyour\\npopular\\narticle.\\nShowing\\noff\\nhigh-quality \\nor\\nstandout\\nactivities\\ncan\\nmake\\na\\ngood\\nresume\\neven\\nbetter.\\n5.\\nMention\\nyour\\nlearning.\\nLearning\\nnew\\nand\\nvaluable\\nskills\\nproactively\\nis\\na\\npositive\\ntrait\\nthat\\nhiring\\nmanagers\\nappreciate.\\nDo \\nmention\\nif\\nyou\\npicked\\na\\ntechnology\\nto\\nspeed\\nup\\na\\nproject,\\ngain\\nknowledge,\\nor\\nstretch\\nyourself.\\n6.\\nDon’t\\nhighlight\\nnegatives\\nYou\\ndon’t\\nneed\\nto\\nlist\\nthings\\nthat\\ndon’t\\nshow\\nyou\\nin\\na\\ngood\\nbook.\\nAvoid\\nmentioning\\nfailed\\nprojects,\\nlow \\nGPA,\\nCGPA\\nscores,\\netc.\\nRemove\\nitems\\nthat\\ndon’t\\nconvey', metadata={'source': '/content/drive/MyDrive/capstone/Resume_guide.pdf', 'page': 9}),\n",
              " Document(page_content=\"that\\ndon’t\\nconvey\\nyou’re\\na\\ngood\\nfit\\nfor\\nthe\\nrole.\\nWe\\nhave \\nmostly\\ncovered\\nwhat\\nshould\\ngo\\non\\na\\nresume.\\nYet\\npeople\\nmake\\nsome\\ntrivial\\nmistakes.\\nWhat\\nare\\nthese? \\nLet’s\\ncheck\\nthat\\nout!\\nCommon\\nMistakes\\n1.\\nCreating\\nhard\\nto\\nscan\\nresumes:\\nMulti-column\\nresumes\\nare\\nhard\\nto\\nscan\\nfor\\nmanagers.\\nSimple\\nformats\\nare\\nbetter.\\nGo\\nutmost\\nfor\\na \\ntwo-column\\nlayout.\\n2.\\nToo\\nmuch\\nbolding\\nA\\nresume\\nshould\\nhave\\nminor\\nand\\nconsistent\\nbolding\\nfor\\ncritical\\nparts,\\nsuch\\nas\\ndates,\\ntitles,\\nand \\ncompanies.\\nDon’t\\nbold\\nrandom\\nparts\\nthat\\ndon’t\\nmake\\nsense\\nat\\nall.\\n3.\\nFlashy\\nresumes\\nA\\ndeveloper's\\nresume\\nis\\n95%\\nabout\\nthe\\ncontent\\nand\\n5%\\nabout\\nthe\\nstyle.\\nIt\\nworks\\nif\\nyou’re \\napplying\\nfor\\na\\nUI/UX\\nrole\\nas\\nit's\\nmore\\nabout\\nstyle\\nwith\\ncreativity.\\n4.\\nInconsistent\\nformatting\\nPay\\nattention\\nto\\nthe\\nfine\\ndetails.\\nKeep\\neverything\\nconsistent.\\n5.\\nSloppy\\nphrases\\nAvoid\\nunprofessional\\nlanguage.\\nDon’t\\nuse\\netc.,\\nso\\non,\\netc.\\n6.\\nUsing\\ninternal\\nacronyms\\nand\\njargon\\nAvoid\\nusing\\ninternal\\nproject\\nnames\\nthat\\npeople\\noutside\\nthe\\ncompany\\ndon’t\\nunderstand.\\nE.g.,\", metadata={'source': '/content/drive/MyDrive/capstone/Resume_guide.pdf', 'page': 9}),\n",
              " Document(page_content=\"understand.\\nE.g.,\\n“I\\ndid\\nFD\\nin\\naplha2.0\\nproject”.\\nA\\nrecruiter\\ncan’t\\nguess\\nwhat\\nyour\\nFD\\nis\\nin \\naplha2.0.\\n7.\\nNot\\nreflecting\\non\\nthe\\njob\\nand\\nnot\\ntailoring\\nthe\\nresume\\nfor\\nthe\\nposition\\nSay\\nif\\nyou\\nknow\\nboth\\nfrontend\\nand\\nbackend\\nbut\\napplying\\nfor\\na\\nspecific\\nfrontend\\nrole.\\nYou\\nwill\\nwant \\nto\\npresent\\nyourself\\nas\\nsomeone\\nwho\\nknows\\nthe\\nfront\\nend\\nenough.\\nBackend\\nis\\na\\nsidekick\\nhere. \\nAlways\\nkeep\\nthe\\njob\\nposition\\nin\\nmind,\\nthen\\ntailor\\nyour\\nresume.\\n8.\\nUsing\\ncliches\\nover\\nstatements\\nbacked\\nby\\nevidence\\nWhat\\ndoes\\nthe\\nfollowing\\nsentence\\ntell\\nyou\\nabout\\nyou?\\n“I\\nam\\na\\nteam\\nplayer\\nand\\na\\nfast\\nlearner\\nwho \\ncan\\nhit\\nthe\\nground\\nrunning.”\\nFrom\\nthe\\npoint\\nof\\nview\\nof\\nthe\\nrecruiter,\\nit\\ndoesn't\\nprovide\\nany\", metadata={'source': '/content/drive/MyDrive/capstone/Resume_guide.pdf', 'page': 9}),\n",
              " Document(page_content=\"information.\\nIt’s\\nnot\\nbacked\\nby\\nany\\nfact\\nor\\nevidence\\nthat\\ncan\\nstate\\nit.\\nLet\\nyour\\nactions\\nspeak\\nfor \\nthemselves\\n9.\\nBeing\\ntoo\\nverbose\\nAvoid\\nblocks\\nof\\ntext\\nor\\nlong\\nsentences.\\nIt\\ndoesn’t\\nhelp\\nfor\\nan\\neasy\\nread.Keep\\nit\\nshort\\nand\\nup\\nto \\nthe\\npoint\\n10.\\nUnnecessary\\ndetails\\nDo\\nnot\\nadd\\nphotos\\nor\\nirrelevant\\ncontact\\ninformation.\\nIf\\nnot\\nneeded\\nor\\nnot\\nin\\nthe\\njob's\\ncontext,\\ndo\\nnot\\nmention\\nspoken\\nlanguages.\\nMost\\ncompanies\\nwill \\nonly\\ncare\\nabout\\nyour\\nproficiency\\nin\\nEnglish.\\n11.\\nSelf-rating\\nyour\\nskill\\nlevel\\nDo\\nnot\\nrate\\nyour\\nproficiency\\nin\\nany\\nlanguage\\nor\\ntechnology\\nusing\\npercentages\\nor\\nscores.\\nIt’s\\nnot\\nnecessary .\\nNo\\none\\nknows\\nanything\\nabout\\na\\nprogramming \\nlanguage/technology .\\n12.\\nNon-clickable\\nor\\nfull\\nlinks\\nCross\\nverify\\nif,\\nby\\nmistake,\\nyou\\nhave\\nadded\\nnon-clickable\\nlinks.\\nAdd\\nproper\\nlinks\\nto\\nGitHub, \\nwebsites,\\nand\\nother\\nmedia.\\nRecruiters\\nwill\\nnot\\ncopy-paste\\nthe\\nname/username\\nto\\nsee\\nit.\\nMake \\nclickable\\nlinks\\nand\\nhide\\nthe\\nfull\\nURL\\nbehind\\na\\nname\\nthat\\ndescribes\\nwhat\\nthe\\nlink\\nis\\nfor.\\n13.\\nStaleLinking\\nIt’s\", metadata={'source': '/content/drive/MyDrive/capstone/Resume_guide.pdf', 'page': 10}),\n",
              " Document(page_content='StaleLinking\\nIt’s\\nbetter\\nto\\nleave\\nit\\nempty\\nrather\\nthan\\nlinking\\nto\\nstale\\nor\\nnot-\\ntouched-in-decade\\nwebsites\\nor\\nGitHub\\nprofile\\nlinks.\\nLink\\nonly\\nif\\nthey\\nare\\nup\\nto\\ndate.\\nSo\\nmany\\nguidelines,\\nand\\nyou\\ncan\\nstill\\ncommit\\na\\nmistake\\nor\\ntwo,\\nno\\nmatter\\nwhat.\\nTo\\nrecap,\\nconsider\\ndoing\\nmost\\nof\\nthese\\nto\\nmake\\nyour\\nresume\\nbetter:\\nWrite\\ntwo\\ndifferent\\nresumes,\\nthen\\ncreate\\na\\nthird\\none\\nfrom\\nthe\\nbest\\nparts\\nof\\nthese\\ntwo.\\nTry\\nto\\nestimate\\nthe\\nimpacts\\nof\\nyour\\nproject.\\nA\\nrough\\nestimation\\nis\\nbetter\\nthan\\nno\\nspecific.\\nDo\\ngrammar\\ncheck,\\nnot\\njust\\nspell-check.\\nAsk\\nfriends\\nor\\nfamily\\nto \\nproofread.\\nSeek\\nout\\nfeedback\\non\\nvarious\\ncommunity .\\nDo\\na\\nkeyword\\ncheck\\nfor\\nyour\\nresume. \\nManually\\nor\\nwith\\nthe\\nhelp\\nof\\nautomated\\ntools.\\nDifferent\\nLevels,\\nDifferent\\nPaths\\nDepending\\non\\nhow\\nmuch\\nexperience\\nyou\\ncarry,\\nyou\\nwill\\nwant\\nto\\nfocus\\non\\ndifferent\\nareas\\nof\\nresumes: \\nResume\\nfor\\nStudents\\nIf\\nyou’re\\nstill\\na\\nstudent,\\nknowing\\nfundamentals\\nis\\nan\\nessence.\\nWhile\\nlearning\\nsoftware \\ndevelopment,\\nyou\\nwould\\nwant\\nto\\nfocus\\non\\nthese\\nthings\\nfor\\na\\nfuture', metadata={'source': '/content/drive/MyDrive/capstone/Resume_guide.pdf', 'page': 10}),\n",
              " Document(page_content='things\\nfor\\na\\nfuture\\njob\\nsearch:\\nInternships\\nOne\\nof\\nthe\\nbest\\nexperiences\\nyou\\ncan\\nhave\\nas\\na\\nstudent\\nis\\nworking\\nas\\nan\\nIntern.\\nApply\\nin\\nnatural\\nproblem-solving\\nindustries.\\nCampus\\nActivities\\nYour\\nuniversity/college\\nmight\\noffer\\nplenty\\nof\\nopportunities\\nto\\nwork\\nwith\\na\\nprofessor,\\nlead\\na\\nlaboratory,\\narrange\\nevents,\\netc.\\nMake\\nthe\\nbest\\nof\\nthese\\nTimes.\\nYou\\nwill\\nget\\nhands-on\\nexperience\\nmentoring/leading\\nothers\\nor\\ntaking\\nthe\\ninitiative.', metadata={'source': '/content/drive/MyDrive/capstone/Resume_guide.pdf', 'page': 10}),\n",
              " Document(page_content='University\\nProjects\\nYou\\nwill\\nundoubtedly\\nhave\\nclass\\nprojects\\nor,\\nto\\nthe\\nleast,\\nthe\\nfinal\\nyear\\nProject.\\nConsider\\nputting\\nextra\\ntime\\nand\\neffort\\ninto\\nthese\\nprojects.\\nPublish\\nthem\\nso\\nthat\\nanyone \\ncan\\ndownload\\nor\\ntry\\nthem.\\nUsing\\nGitHub\\nwill\\nbe\\nsuper\\nbeneficial.\\nIf\\npossible,\\nbuy\\nyour\\ndomain. \\nThis\\nmight\\ncost\\nyou\\nbucks,\\nbut\\nit’ll\\nbe\\nworth\\nit\\nto\\nshow\\nthe\\ninterviewer\\nwhat\\nyou\\nhave.\\nClearly,\\nit \\nwill\\nshow\\nyou\\nas\\nsomeone\\nwho\\nknows\\ndeployment\\nto\\nthe\\nleast. \\nResume\\nfor\\nBootcamp\\nGrads\\nAs\\na\\nBootcamp\\ngrad\\nwho\\nhas\\nlikely\\nlearned\\nbasic\\nsoftware\\ndevelopment\\nskills,\\nyour\\ntime\\nspent \\nstudying\\nthese\\nwill\\nbe\\nshorter\\nthan\\ncollege/university\\nstudents.\\nIt\\nwould\\nbe\\nbest\\nto\\ncompete\\nwith \\nthese\\ngraduate\\npeople\\nand\\nother\\nBootcamp\\ngrads.\\nBut\\nno\\nworries\\nif\\nyou\\nhave\\nthe\\ncapstone \\nproject\\non\\nyour\\nresume.\\nSo\\nwhat\\ndo\\nyou\\nneed\\nto\\nfocus\\non?\\nProjects\\nIt’s\\nuniversal\\nfor\\neveryone\\nlooking\\nfor\\na\\njob.\\nDevelop\\nas\\nmany\\nprojects\\nas\\nyou\\nwant,\\nbut\\nhave\\nthat \\none\\ngreat\\nproject!\\nTo\\nstand\\nout,\\nyou\\nwill\\nwant\\nto\\nshowcase\\nbetter\\nprojects.', metadata={'source': '/content/drive/MyDrive/capstone/Resume_guide.pdf', 'page': 11}),\n",
              " Document(page_content='better\\nprojects.\\nFollow\\nthese \\ntips:\\ń\\nGood\\nREADMEs\\nAim\\nto\\nwrite\\na\\nREADME\\nwith\\na\\ngood\\nsummary:\\nscreenshots,\\ndetails\\non\\nhow\\nto\\nrun\\n&\\ntest.\\nContribute\\nto\\nother\\nopen-source\\nprojects\\nFind\\nprojects\\nwhere\\nyou\\ncan\\ncontribute.\\nTake\\npart\\nin\\nthe\\nopen-source\\nprograms\\nI\\nmentioned \\nearlier.\\nIf\\nyou\\ncan\\nmerge\\na\\npull\\nrequest,\\nyou\\ncan\\nclaim\\nthat\\nyou\\nhave\\ncontributed\\nto\\na\\nproject\\nused \\nby\\nmore\\nthan\\na\\ncertain\\nnumber\\nof\\ndevelopers.\\nTurn\\ninterview\\nprojects/challenges\\nor\\nlearnings\\ninto\\npublic\\nprojects\\nYou\\ncan\\ndo\\nmore\\nthan\\nsubmit\\nprojects\\nor\\ndo\\ncoding\\nchallenges\\nfor\\na\\njob\\ninterview.\\nWithout\\ncaring \\nabout\\nthe\\nresults,\\ncontinue\\nworking\\non\\nthese\\nprojects/challenges\\nand\\nsubmit\\neven\\nbetter-polished \\nsolutions\\nonline\\non\\nGitHub.\\nIf\\nyou\\ncannot\\nreach\\nthe\\nnext\\nround,\\nask\\nfor\\nfeedback,\\nand\\nbuild\\nthat \\nfeedback\\ninto\\nthis\\nproject.\\nIf\\nyou\\ndo\\neven\\nbetter,\\ndon’t\\nhesitate\\nto\\nsend\\na\\ncold\\nemail\\nwith\\nthese \\nlatest\\nchanges.\\nYou\\nmight\\nget\\nanother\\nchance\\nto\\ndo\\nit\\nbetter.\\nNo\\none\\nknows\\nunless\\nyou\\ntry.\\nFreelance\\nprojects\\nTry', metadata={'source': '/content/drive/MyDrive/capstone/Resume_guide.pdf', 'page': 11}),\n",
              " Document(page_content='projects\\nTry\\nfreelancing\\nonce\\nin\\nlife\\nwhile\\nyou’re\\nin\\nsearch\\nof\\na\\njob.\\nA\\nfreelance\\nproject\\non\\nthe\\nresume\\ncan \\ntell\\na\\nlot.\\nLanding\\na\\ngood\\nclient\\nat\\nfirst\\ncan\\nbe\\nchallenging.\\nIf\\nyour\\ngoal\\nis\\nto\\nget\\nexperience,\\nkeep \\nthe\\nfocus\\non\\nfinding\\nprojects\\nthat\\ncan\\nadd\\nvalue\\nto\\nyour\\nportfolio.\\nPublish\\nscreenshots\\nand\\ncode \\nsnippets\\nof\\nthe\\nwork\\non\\nthe\\nportfolio\\npage\\nafterward.\\nYou\\ndon’t\\nneed\\nto\\ndisclose\\nhow\\nmuch\\nyou \\ngot\\npaid.\\nThe\\ngoal\\nis\\nto\\nshow\\nyour\\nknowledge.\\nResume\\nfor\\nCareer\\nChangers\\nSummary\\nHave\\na\\nsummary\\nsection\\nthat\\nexplains\\nyour\\nmotivation/reason\\nfor\\na\\ncareer\\nchange.\\nWhen\\nyou \\nhave\\nchanged\\ncareers\\nfrom\\nother\\nprofessions\\nto\\nsoftware\\ndevelopment,\\nmost\\nof\\nthe\\nadvice\\nis\\nthe \\nsame\\nas\\nfor\\na\\nBootcamp\\ngrad\\nyou\\nmight\\nhave\\nsome\\ntraining\\nbehind\\nyou.\\nHere\\nis\\nadvice\\nfor\\nyou:\\nLanguages\\n&\\nProjects', metadata={'source': '/content/drive/MyDrive/capstone/Resume_guide.pdf', 'page': 11}),\n",
              " Document(page_content='List\\ntowards\\nthe\\ntop\\nof\\nthe\\nresume,\\nshowing\\nthat\\nyou\\nhave\\nhands-on\\nsoftware\\ndevelopment \\nexperience.\\nFollow\\nthe\\nguidelines\\nfor\\nlisting\\na\\nproject,\\ni.e.,\\nsource\\ncode\\nlink,\\ngood\\nREADMEs, \\ndemo\\nlink,\\netc.\\nPast\\nwork\\nexperience\\nKeep\\nit\\nconcise\\nand\\nhave\\na\\none-sentence\\nsummary\\nof\\nthe\\njob.\\nFocus\\non\\nany\\npoints\\nor\\nskills \\ntransferable\\nto\\nsoftware\\ndevelopment,\\ne.g.,\\nproactive\\nlearner,\\nteam\\nleader,\\netc.\\nOne-page\\nresume\\nTry\\nto\\nfit\\non\\none\\npage.\\nDon’t\\nover-share\\npast\\nexperiences\\nif\\nthey\\naren’t\\nbeneficial\\nin\\nthe\\nsoftware \\nfield.\\nResume\\nfor\\nCareer\\nBreaks\\nYou\\nmight\\nhave\\ngone\\nfor\\nmany\\nmonths—or\\nyears—without\\na\\njob\\nor\\nwork\\nin\\na\\nsoftware\\nfield.\\nIt \\nmight\\nbe\\nwhy\\nyou\\nwere\\npursuing\\nsomething,\\nor\\nyou\\nwanted\\nto\\ntake\\na\\nbreak.\\nEither\\nway,\\nthere’s\\na \\ngap\\nin\\nyour\\nresume.\\nHow\\ndo\\nyou\\npresent\\nthis?\\nCareer\\nbreak\\nyears \\nYou\\ndon’t\\nneed\\nto\\nexplain\\nthe\\nbreaks\\nthat\\nhave\\nhappened\\nmore\\nthan\\na\\nfew\\nyears\\nago\\n—\\n4\\nor\\n5 \\nyears.\\nRecruiters\\nor\\nhiring\\nmanagers\\nwill\\nrarely\\ncare\\nabout\\nit.\\nFor\\nrecent\\ncareer\\nbreaks,\\nuse\\nyour \\ngood', metadata={'source': '/content/drive/MyDrive/capstone/Resume_guide.pdf', 'page': 12}),\n",
              " Document(page_content='use\\nyour \\ngood\\njudgment\\non\\nwhether\\nyou\\nwant\\nto\\nadd\\nit.\\nTell\\na\\nstory\\nof\\nyour\\ncareer\\nbreak.\\ne.g..,\\nDue\\nto \\nCOVID-19,\\nI\\ndecided\\nto\\ntake\\na\\nbreak\\nto\\nspend\\nmore\\ntime\\nwith\\nmy\\nfamily.\\nHow\\nto\\naddress\\na\\ncareer\\nbreak\\non\\nyour\\nCV\\nA\\ncareer\\nbreak\\nis\\ngenerally\\ndeﬁned\\nas\\nany\\ntime\\nyou’ve\\nbeen\\noﬀ\\nwork\\nfor\\nan\\nextended\\nperiod\\n(of\\ntypically\\nmore\\nthan\\nthree\\nmonths)\\nthat\\nhas\\nbeen\\nfor\\nany\\nreason\\nother\\nthan\\nredundancy.\\nIt\\ncan\\ncover\\nillness,\\ntravel,\\na\\nsabbatical\\n,\\nhaving\\nchildren,\\ncaring\\nfor\\nrelatives\\nand\\nmany\\nother\\nreasons.\\nAs\\na\\ngeneral\\nrule,\\nyou\\nshould\\nusually\\nexplain\\ngaps\\nin\\nyour\\nemployment\\nhistory\\nand\\nbe\\nhonest\\nabout\\nwhy\\nyou\\nwere\\nout\\nof\\nwork\\nas\\nemployers\\nmay\\nuncover\\nany\\nexaggerations\\nif\\nthey\\ncall\\nprevious\\nemployers\\nfor\\nreference.\\nThe\\nreal\\ntrick\\nis\\nhow\\nyou\\nposition\\nthe\\ncareer\\nbreak.\\nBy\\nputting\\na\\npositive\\nspin\\non\\nthe\\ntime\\noﬀ,\\nmany\\nemployers\\nwill\\nbe\\nimpressed\\nand\\nmore\\nthan\\nwilling\\nto\\naccept\\nit.\\nMore\\nthan\\nanything,\\nthey\\nwant\\nreassurances\\nthat\\nyou\\nwon’t\\nbe\\nleaving\\nthe\\nworkforce\\nagain\\nsoon\\nand\\nthat\\nyou’re', metadata={'source': '/content/drive/MyDrive/capstone/Resume_guide.pdf', 'page': 12}),\n",
              " Document(page_content='and\\nthat\\nyou’re\\nmotivated\\nto\\nget\\nback\\ninto\\nemployment.\\nWhere\\nto\\naddress\\nthe\\ncareer\\nbreak\\non\\nyour\\nCV', metadata={'source': '/content/drive/MyDrive/capstone/Resume_guide.pdf', 'page': 12}),\n",
              " Document(page_content='W hile\\nit’s\\nalways\\nimportant\\nto\\naddress\\nyour\\ncareer\\nbreak,\\nyou\\ndon’t\\nneed\\nto\\ngo\\ninto\\ngreat\\ndetail\\nabout\\nthe\\ntime\\noﬀ.\\nIn\\nmost\\ncases,\\nit\\ncan\\nbe\\nsummarised\\nin\\na\\nshort\\nsentence.\\nBut\\nwhere\\nshould\\nit\\nbe\\nmentioned?\\nThis\\nwill\\ndepend\\non\\nhow\\nrecent\\nthe\\ncareer\\nbreak\\nwas,\\nand\\npossibly\\nyour\\nmotives\\nfor\\ntaking\\nit.\\n●\\nIf\\nyou\\nare\\non\\nyour\\ncareer\\nbreak\\nright\\nnow:\\nSay\\nyou’ve\\nbeen\\nout\\nof\\nwork\\ncaring\\nfor\\na\\nrelative\\nfor\\nthe\\nlast\\nsix\\nmonths,\\nyou’ll\\nwant\\nto\\nexplain\\nthis\\nperiod\\nout\\nof\\nwork\\nin\\nyour\\nexperience\\nsection\\nas\\nwell\\nas\\nin\\nyour\\npersonal\\nstatement\\n●\\nIf\\nyour\\ncareer\\nbreak\\noccurred\\nin\\nthe\\nlast\\none\\nto\\nﬁve\\nyears\\nbut\\nyou’re\\nemployed\\nnow:\\nyou\\nneedn’t\\nmention\\nit\\nin\\nyour\\npersonal\\nstatement,\\nonly\\nin\\nyour\\nexperience\\nsection\\n●\\nIf\\nit\\nwas\\na\\nlong\\ntime\\nago:\\nDid\\nyou\\ntake\\nsix\\nmonths\\nto\\ngo\\nbackpacking\\naround\\nIndia\\nin\\n1995?\\nChances\\nare,\\nyou\\nprobably\\nneedn’t\\nmention\\nthe\\ncareer\\nbreak\\nat\\nall\\nHow\\nto\\ndescribe\\nthe\\ncareer\\nbreak\\nAs\\nnoted\\nabove,\\nyou\\nneedn’t\\ngo\\ninto\\ngreat\\ndetail\\ndescribing\\nthe\\ncareer\\nbreak\\n–\\nno\\nmore\\nthan\\na\\nline\\nor', metadata={'source': '/content/drive/MyDrive/capstone/Resume_guide.pdf', 'page': 13}),\n",
              " Document(page_content='more\\nthan\\na\\nline\\nor\\ntwo.\\nThe\\nkey\\nthing\\nhere\\nis\\nto\\nemphasise\\nthe\\npositives\\nand,\\nif\\nappropriate,\\ndescribe\\nany\\nnew\\nskills\\nlearnt\\nor\\ncourses\\ntaken.\\nIt’ll\\nalso\\nbe\\nimportant\\nto\\nprovide\\nsome\\nreassurance\\nthat\\nyou’re\\nnot\\nplanning\\nanother\\ncareer\\nbreak\\nany\\ntime\\nsoon.\\nAgain,\\nlet’s\\nlook\\nat\\nsome\\nexamples:\\n●\\nYou\\nwent\\ntravelling:\\n“I\\nfulﬁlled\\nmy\\nlife-long\\ndream\\nof\\ntravelling\\nthrough\\nSouth\\nAmerica\\nfor\\nsix\\nmonths\\nwhere\\nI\\nimproved\\nmy\\nSpanish\\nand\\ngained\\nan\\nunderstanding\\nof\\ndiﬀerent\\ncultures”\\n●\\nYou\\nwanted\\na\\nfresh\\nstart:\\n“I\\nchose\\nto\\ntake\\ntime\\noﬀ\\nwork\\nto\\npursue\\nmy\\ninterest\\nin\\npainting\\nand\\nhad\\nthe\\ntime\\nto\\ndecide\\non\\na\\nnew\\ncareer\\npath\\nthat\\nreally\\nﬁts\\nmy\\npersonal\\ngoals”', metadata={'source': '/content/drive/MyDrive/capstone/Resume_guide.pdf', 'page': 13}),\n",
              " Document(page_content='●\\nYou\\nwere\\nill:\\n“I\\ntook\\ntime\\noﬀ\\nwork\\ndue\\nto\\na\\nlengthy\\nillness,\\nbut\\nthe\\ntime\\noﬀ\\nallowed\\nme\\nto\\nfully\\nregain\\nﬁtness\\nfor\\nthe\\nlong-term\\nand\\nI\\nbecame\\ninvolved\\nin\\nvolunteering\\nat\\na\\nlocal\\ncharity\\nshop\\nto\\nget\\nme\\nback\\ninto\\nthe\\nswing\\nof\\nwork”\\n●\\nYou\\nwere\\ncaring\\nfor\\nsomeone\\nelse:\\n“I\\ntook\\ntime\\noﬀ\\nto\\ncare\\nfor\\nmy\\nbrother\\nwho\\nhas\\nnow\\nmade\\na\\nfull\\nrecovery”\\nFormatting\\ncan\\nhelp\\nAddressing\\na\\ncareer\\nbreak\\nis\\nall\\nabout\\naccentuating\\nthe\\npositives.\\nW hile\\nyou\\ndo\\nhave\\nto\\nmention\\nyou’ve\\nbeen\\noﬀ\\nwork,\\nyou\\ncan\\nformat\\nyour\\nCV\\nin\\nsuch\\na\\nway\\nthat\\nrecruiters\\nfocus\\non\\nother\\nparts\\nof\\nyour\\nemployment\\nand\\npersonal\\nhistory.\\nOne\\noption\\nis\\nto\\ndescribe\\njobs\\nin\\nterms\\nof\\nthe\\nyears\\nyou\\nworked\\nthere,\\nrather\\nthan\\nexact\\nmonths.\\nFor\\nexample:\\n“Marketing\\nCompany:\\n2009-2010”,\\nrather\\nthan\\n“Marketing\\nCompany:\\nNovember\\n2009-February\\n2010”:\\n●\\nPerhaps\\nduring\\nyour\\nearly\\ncareer,\\nyou\\nhad\\na\\nfew\\nperiods\\nout\\nof\\nwork\\nfor\\npersonal\\nreasons,\\nbut\\nsince\\nthen\\nhave\\nfollowed\\na\\nstandard\\ncareer\\npath.\\nYou\\nmay\\njust\\nwant\\nto\\ndescribe\\nthose\\nearly\\nyears\\nin\\nthis', metadata={'source': '/content/drive/MyDrive/capstone/Resume_guide.pdf', 'page': 14}),\n",
              " Document(page_content='early\\nyears\\nin\\nthis\\nway.\\nIf\\nyou’ve\\nhad\\na\\nmore\\nstable\\ncareer\\never\\nsince,\\nit’s\\nprobably\\nnot\\nnecessary\\nto\\ndraw\\ntoo\\nmuch\\nattention\\nto\\nthat\\nearlier\\nspotty\\nperiod.\\nAlternatively,\\nyou\\nmight\\nwant\\nto\\ncreate\\na\\n‘skills’\\nor\\n‘themed’\\nCV\\n–\\nas\\nopposed\\nto\\nthe\\nmore\\ncommon\\nchronological\\nformat:\\n●\\nMaybe\\nfor\\nthe\\nlast\\nten\\nyears\\nor\\nso\\nyou\\nhad\\nthe\\nopportunity\\nto\\nlive\\nin\\nthe\\nsouth\\nof\\nFrance\\nand\\ndidn’t\\nneed\\nto\\nwork\\nmuch\\nbut\\nare\\nnow\\nkeen\\nto\\nreturn\\nto\\nthe\\nUK\\nand\\nrestart\\nyour\\ncareer.\\nCreating\\na\\nskills-based\\nCV\\ncould\\nbe\\nreally\\nhelpful\\nhere.\\nTake\\nthe\\ntime\\nto\\nthink\\nhow\\nthe\\nskills\\nyou’ve\\nlearnt\\nwhile\\nout\\nof\\nwork\\ncould\\nbe\\nreapplied.\\nFor\\ninstance,\\nyou’d\\nlikely\\nbe\\nﬂuent\\nin\\nFrench\\nby\\nnow\\nand\\ncapable\\nof\\nworking\\nin\\na\\nmultilingual\\nenvironment.\\nOr\\nyou\\nmight\\nbe\\nfamiliar\\nwith\\nFrench\\ntax\\nlaw\\nor\\nthe\\ncountry’s\\nproperty\\nmarket,\\nknowledge\\nthat\\nwould', metadata={'source': '/content/drive/MyDrive/capstone/Resume_guide.pdf', 'page': 14}),\n",
              " Document(page_content='be\\nvery\\nhelpful\\nfor\\nall\\nsorts\\nof\\nbusinesses.\\nBy\\nmaking\\nyour\\nskills\\nstand\\nout,\\nemployers\\nwill\\nunderstand\\nthe\\nvalue\\nyou\\ncould\\nbring\\nthem\\nand\\nlook\\npast\\nthe\\ntime\\nout\\nof\\nformal\\nemployment.\\nExample\\nSummary\\nSection\\nfor\\nCareer\\nBreak:\\nI\\nam\\na\\nconﬁdent\\nand\\ncapable\\noﬃce\\nmanager\\nwith\\nover\\nten\\nyears’\\nexperience\\nin\\na\\nrange\\nof\\nbusinesses.\\nI\\nhave\\na\\nsolid\\nunderstanding\\nof\\nall\\ncore\\noﬃce\\nmanagement\\nresponsibilities,\\nI\\nam\\nfriendly\\nand\\napproachable,\\nand\\nI\\nlearn\\nnew\\nskills\\nfast.\\nI\\nam\\nnow\\nreturning\\nto\\nthe\\nworkforce\\nafter\\na\\nperiod\\nof\\nabsence\\nwhile\\nproviding\\ncare\\nfor\\na\\nrelative,\\nbut\\nam\\nnow\\nready\\nand\\nmotivated\\nto\\nrestart\\nmy\\ncareer.\\nFor\\nthe\\npast\\ntwo\\nmonths\\nI\\nhave\\ntaken\\non\\nvolunteering\\nwork\\nas\\na\\npart\\ntime\\noﬃce\\nmanager\\nat\\na\\nlocal\\ncharity\\nto\\nrefresh\\nmy\\nskills.\\nResume\\nfor\\nSenior\\nor\\nabove \\nEngineers\\nThe\\nmore\\nexperienced\\nyou\\nare,\\nthe\\nmore\\nlikely\\nyou\\nstand\\nout\\nbased\\non\\nyour\\nexperience\\nand\\npast \\ntitles.\\nFor\\nsomeone\\nhaving\\nexperience\\nof\\nover\\n7-8\\nyears,\\nyour\\nchallenge\\nwill\\nbe\\nto\\nkeep\\nyour \\nresume\\nrelevant\\nto\\nthe\\nposition', metadata={'source': '/content/drive/MyDrive/capstone/Resume_guide.pdf', 'page': 15}),\n",
              " Document(page_content='to\\nthe\\nposition\\nyou’re\\napplying\\nfor:\\nCareer\\nbreak\\nyears\\nthe\\nexperience\\nyou\\ncarry,\\nthe\\nhiring\\nteam\\nwill\\nlook\\nforward\\nto\\nthis\\nsummary\\nsection\\nto\\nknow\\nabout \\nyour\\nmotivation\\nbehind\\napplying\\nto\\ntheir\\nfirm.\\nSoft\\nAchievements\\nMention\\nsoft\\nachievements\\n—\\nmentoring\\njunior\\ndevelopers,\\nleading\\na\\nteam,\\nand\\nother\\nactivities \\nwhere\\nyou\\nhelped\\nothers.\\nImpact\\n&\\nInfluence\\nOn\\ntop\\nof\\ncompany\\nwork,\\nyou\\ncan\\nmention\\nwhat\\nkind\\nof\\nimpression\\nyou\\nmade\\nwith\\nyour\\nwork. \\nMention\\nwhat\\nteams\\nor\\norganizations\\nyou\\ninfluenced\\nfor\\nspecific\\noutcomes.\\nEducation\\nAs\\nyou\\ncontinue\\ngaining\\nmore\\nexperience,\\neducation\\nwill\\nhave\\nless\\nvalue.\\nYou\\ncan\\nmove\\nthe \\neducation\\nsection\\nto\\nthe\\nsecond\\npage.\\nOnly\\nkeep\\nstandout\\ndetails\\nin\\none\\nline\\nor\\ntwo.\\nResume\\nfor\\nTech\\nLeads\\nYou\\nmight\\nhave\\ngone\\nfor\\nmany\\nmonths—or\\nyears—without\\na\\njob\\nor\\nwork\\nin\\na\\nsoftware\\nfield.\\nIt \\nmight\\nbe\\nwhy\\nyou\\nwere\\npursuing\\nsomething,\\nor\\nyou\\nwanted\\nto\\ntake\\na\\nbreak.\\nEither\\nway,\\nthere’s\\na \\ngap\\nin\\nyour\\nresume.\\nHow\\ndo\\nyou\\npresent\\nthis?', metadata={'source': '/content/drive/MyDrive/capstone/Resume_guide.pdf', 'page': 15}),\n",
              " Document(page_content='Follow\\nthese\\nguidelines\\nwhen\\napplying\\nfor\\nthe\\ntech\\nlead\\nposition:\\nShowcase\\nhow\\nyou\\nhelped\\nteams. \\nHiring\\nmanagers\\nhire\\ntech\\nleads\\nwhen\\nthey\\nfeel\\ntheir\\nteam\\nis\\nbehind\\non\\ndelivery,\\nstruggling\\nwith \\nhigh\\nturnover,\\nor\\ndelivering\\npoor\\nquality.\\nAs\\na\\ncandidate,\\nyou\\nwill\\nwant\\nto\\nshowcase\\nthese\\npoints \\nwhere\\nyou\\nhelped\\nyour\\nteam\\nto\\nexcel,\\nincreased\\nspeed,\\nimproved\\ncode\\nquality,\\nor\\nrepaired \\nstakeholder\\nrelationships.\\nGive\\nexamples\\nof\\nhow\\nyou\\nmade\\nyour\\nteam\\nsuccessful.Y ou\\nwill\\nbe \\nexpected\\nto\\nhave\\na\\ntrack\\nrecord.\\nMake\\nit\\neasier\\nto\\nfind.\\nSpecifics\\nand\\nContext \\nSpecify\\nthe\\nsize\\n&\\nmakeup\\nof\\nthe\\nteam—3\\nfrontend,\\n2\\nbackend\\n&\\n1\\nQA\\nengineer’s\\nteam. \\nMention\\nyour\\nmajor\\ntechnical\\nchoices\\ntaken\\nwithin\\nthe\\nteam. \\nOutcomes\\nand\\nActivities \\nPlease\\ntalk\\nabout\\nthe\\ndaily\\nscrums\\nand\\nhow\\nyou\\nmanaged\\nto\\nmake\\nthem\\nhappen\\nwithin\\nthe \\ndeadlines.\\nInclude\\nproof\\npoints\\nfor\\ndelivery;\\ne.g.,\\nmanaged\\na\\nteam\\nof\\nx\\ndevelopers\\nthat\\ndelivered \\nProject\\nX\\non\\ntime\\nand\\nwithin\\nbudget.\\nResume\\nfor\\nEngineering\\nManagers\\nMost\\npercentages', metadata={'source': '/content/drive/MyDrive/capstone/Resume_guide.pdf', 'page': 16}),\n",
              " Document(page_content='Most\\npercentages\\nof\\nthe\\nguidelines\\nshared\\nfor\\ntech\\nlead\\npositions\\napply\\nto\\nthe\\nrole\\nof\\nengineering \\nmanagers.\\nBut\\nyou\\nwould\\nlike\\nto\\nprovide\\nmore\\ndetails:\\nTell\\na\\nstory\\nabout\\nhow\\nyou\\nachieved\\nresults,\\nimproved\\nyour\\nteam’s\\nperformance,\\n&\\nhow\\nmade \\nyour\\norganization\\nbetter.g\\nBe\\nfamiliar\\nwith\\nthe\\nvalues\\nof\\nthe\\ncompany\\nyou’re\\napplying\\nfor.\\nDo\\nyour\\nresearch\\non\\nthe \\norganization’ s\\nculture.g\\nTalk\\nabout\\nthe\\ntype\\nof\\nchallenges\\nyou\\nare\\nfit\\nto\\nsolve.\\nPoint\\nout\\nwhat\\nkind\\nof\\nproblems\\nmade\\nyou \\nachieve\\nyour\\nbest\\nresults=\\nGet\\nfeedback\\nfrom\\nyour\\npeers\\nor\\nfriends.\\nLinkedIn\\nAlong\\nwith\\nyour\\nresume,\\nyou\\nwill\\nwant\\nto\\nget\\nready\\nother\\nthings:\\nLinkedIn,\\nGitHub\\nProfile,\\nor \\ncover\\nletter.\\nLet’s\\ntalk\\nabout\\nhow\\nto\\ncreate\\na\\nbetter\\nLinkedIn\\nprofile:\\nResumes\\nand\\nLinkedIn\\nprofiles\\nare\\nlike\\nthe\\nyin\\nand\\nyang.\\nYou\\ndirectly\\napply\\nwith\\na\\nresume,\\nand \\nopportunities\\ncan\\ncome\\nand\\nfind\\nyou\\nwith\\nyour\\nLinkedIn\\nprofile.\\nIt’s\\nsmart\\nto\\ninvest\\nequally\\nin \\nboth.\\nHeadline\\nSet\\na\\nheadline\\nthat\\nrepresents\\nwhat\\nyou\\nwant\\nto\\nbe\\nfound\\nfor.', metadata={'source': '/content/drive/MyDrive/capstone/Resume_guide.pdf', 'page': 16}),\n",
              " Document(page_content='to\\nbe\\nfound\\nfor.\\nIt\\nshould\\nsummarize\\nthe\\nmessage \\nyou\\nwould\\nwant\\nto\\nconvey.\\nIf\\nyou\\nset\\nnothing\\non\\nyour\\nprofile,\\nyour\\ncurrent\\nposition\\nwill\\nappear.\\nConsider\\nadding\\nthe\\n“|”\\nseparator\\ncharacter\\nto\\nadd\\nmore\\ninformation\\nto\\nyour\\nheadline.\\nFor \\nexample,\\n“Frontend\\ndeveloper\\nwith\\n2\\nyears\\nof\\nexperience\\n|\\nJavaScript,\\nExpress,\\nMongoDB, \\nNext.js”.\\nA\\ntailored\\nheadline\\nwill\\nrank\\nyour\\nprofile\\nhigher\\nwith\\nkeyword\\nsearches\\nthat\\ngrab\\nthe \\nrecruiters’\\nattention.', metadata={'source': '/content/drive/MyDrive/capstone/Resume_guide.pdf', 'page': 16}),\n",
              " Document(page_content=\"Current\\nPosition\\nDescribe\\nyour\\ncurrent\\nrole\\nproperly.\\nFor\\nexample,\\nif\\nyou're\\nleading\\na\\nteam\\nof\\nfrontend\\ndevelopers, \\nyou\\nshould\\nwrite\\n“Frontend\\nLead”\\nor\\n“Frontend\\nTeam\\nLead”.\\nAnything\\nthat\\nbest\\ndescribes\\nyour \\nrole.\\nIf\\nyou\\ndon’t\\nhave\\na\\ncurrent\\njob,\\nLinkedIn\\nwill\\nrank\\nyour\\nprofile\\nlower.\\nMake\\nsure\\nnot\\nto\\nleave \\nyour\\nheadline\\nempty,\\neven\\nif\\nyou\\ndon’t\\nhave\\na\\nposition.\\nYou\\ncan\\nhighlight\\nthe\\nskills\\nyou\\nknow\\nin \\nthat\\ncase.\\nSummary\\nMention\\nkeywords,\\ntechnologies,\\nor\\nlanguages\\nyou’re\\nfamiliar\\nwith.\\nGo\\nfor\\na\\nlonger\\nsummary\\nthat \\nbest\\ndescribes\\nyour\\nvalues\\nor\\nmotivation\\nin\\nthe\\nfield.\\nYou\\ndon’t\\nhave\\nto\\nfit\\neverything\\non\\na\\npage \\non\\nLinkedIn.\\nIn\\nfact,\\nwith\\nmore\\ncontent,\\nyou\\ncould\\nrank\\nhigher\\nin\\nsearch\\nresults.\\nSo\\nit’s\\nfine\\nto\\nbe \\nverbose\\nhere.\\nProfessional\\nphoto\\nA\\nprofessional\\nphoto\\nis\\none\\nwhere\\nyour\\nface\\ncan\\nbe\\nseen\\nproperly\\nwithout\\nno\\none\\nelse\\nin\\nthe \\npicture.\\nWork\\nExperience\\nOmit\\nwork\\nexperience\\nthat\\ndoesn’t\\nsupport\\nyour\\nprofessional\\ncareer.\\nYour\\nprofile\\nshould\\ntell\\na \\ngood\\nstory\\nof\\nyour\", metadata={'source': '/content/drive/MyDrive/capstone/Resume_guide.pdf', 'page': 17}),\n",
              " Document(page_content='good\\nstory\\nof\\nyour\\nprofessional\\nside.\\nRemove\\npositions\\nthat\\ndon’t\\nstrengthen\\nthis\\nimage.\\nOpen\\nfor\\nwork\\nDo\\nnot\\nadd\\n“Looking\\nfor\\nopportunities”,\\n“open\\nfor\\na\\nnew\\nrole”\\nor\\nsomething\\nsimilar\\non\\nyour \\nheadline.\\nIt\\ndoesn’t\\nadd\\nmuch\\nvalue.\\nInstead,\\nit\\nwill\\ntake\\nthe\\nspace\\nthat\\nyou\\nmight\\nhave\\nused\\nto \\npresent\\nyourself\\nor\\nhighlight\\nyour\\nskills.\\nYou\\ncan\\nactivate\\nthe\\noption\\ngiven\\nby\\nLinkedIn\\nto\\nlet \\nrecruiters\\nsee\\nwhether\\nyou’re\\nopen\\nfor\\nwork\\nor\\nnot.\\nNetworking\\nConnect\\nwith\\nmore\\npeople.\\nReact\\nout\\nto\\nthe\\ngreat\\nminds!\\nThe\\nclose\\nyou\\nare\\nconnection-wise\\nwith \\nthe\\nrecruiter,\\nthe\\nhigher\\nyour\\nprofile\\nwill\\nrank.\\nLocation\\nLocation\\nis\\noften\\na\\nfilter\\nthat\\nrecruiters\\nuse.\\nIf\\nyou’re\\nmoving\\nto\\na\\ndifferent\\nlocation,\\nyou\\ncan \\nupdate\\nit.\\nIn\\ncase\\nyou’re\\nlooking\\nfor\\nremote\\npositions,\\nyou\\ncan\\nspecify\\nthat.', metadata={'source': '/content/drive/MyDrive/capstone/Resume_guide.pdf', 'page': 17})]"
            ]
          },
          "metadata": {},
          "execution_count": 12
        }
      ]
    },
    {
      "cell_type": "code",
      "source": [
        "import os\n",
        "\n",
        "os.environ[\"OPENAI_API_KEY\"] = \"\""
      ],
      "metadata": {
        "id": "AzzB57WsZr6b"
      },
      "execution_count": null,
      "outputs": []
    },
    {
      "cell_type": "code",
      "source": [
        "from langchain.embeddings.openai import OpenAIEmbeddings\n",
        "\n",
        "embeddings = OpenAIEmbeddings()"
      ],
      "metadata": {
        "id": "mg8r0rVBZtx7"
      },
      "execution_count": null,
      "outputs": []
    },
    {
      "cell_type": "markdown",
      "source": [
        "Now we can embed our chunked documents into a ChromaVectorDB!\n",
        "\n",
        "We are going to be going through the example of persisting this particular DB - but we won't be leveraging the persisted version."
      ],
      "metadata": {
        "id": "b3XDa8Mhf1NH"
      }
    },
    {
      "cell_type": "code",
      "source": [
        "# we'll need a few dependencies before we can do this\n",
        "!pip install chromadb tiktoken -q"
      ],
      "metadata": {
        "colab": {
          "base_uri": "https://localhost:8080/"
        },
        "id": "Uvut_YhXfQzZ",
        "outputId": "8c592635-b9cd-4958-f0eb-34a4e537088e"
      },
      "execution_count": null,
      "outputs": [
        {
          "output_type": "stream",
          "name": "stdout",
          "text": [
            "\u001b[2K     \u001b[90m━━━━━━━━━━━━━━━━━━━━━━━━━━━━━━━━━━━━━━━\u001b[0m \u001b[32m402.8/402.8 kB\u001b[0m \u001b[31m5.5 MB/s\u001b[0m eta \u001b[36m0:00:00\u001b[0m\n",
            "\u001b[2K     \u001b[90m━━━━━━━━━━━━━━━━━━━━━━━━━━━━━━━━━━━━━━━━\u001b[0m \u001b[32m1.7/1.7 MB\u001b[0m \u001b[31m18.0 MB/s\u001b[0m eta \u001b[36m0:00:00\u001b[0m\n",
            "\u001b[?25h  Installing build dependencies ... \u001b[?25l\u001b[?25hdone\n",
            "  Getting requirements to build wheel ... \u001b[?25l\u001b[?25hdone\n",
            "  Preparing metadata (pyproject.toml) ... \u001b[?25l\u001b[?25hdone\n",
            "\u001b[2K     \u001b[90m━━━━━━━━━━━━━━━━━━━━━━━━━━━━━━━━━━━━━━━━\u001b[0m \u001b[32m58.4/58.4 kB\u001b[0m \u001b[31m4.8 MB/s\u001b[0m eta \u001b[36m0:00:00\u001b[0m\n",
            "\u001b[2K     \u001b[90m━━━━━━━━━━━━━━━━━━━━━━━━━━━━━━━━━━━━━━━━\u001b[0m \u001b[32m59.5/59.5 kB\u001b[0m \u001b[31m5.7 MB/s\u001b[0m eta \u001b[36m0:00:00\u001b[0m\n",
            "\u001b[2K     \u001b[90m━━━━━━━━━━━━━━━━━━━━━━━━━━━━━━━━━━━━━━━━\u001b[0m \u001b[32m5.3/5.3 MB\u001b[0m \u001b[31m36.9 MB/s\u001b[0m eta \u001b[36m0:00:00\u001b[0m\n",
            "\u001b[2K     \u001b[90m━━━━━━━━━━━━━━━━━━━━━━━━━━━━━━━━━━━━━━━━\u001b[0m \u001b[32m5.9/5.9 MB\u001b[0m \u001b[31m58.6 MB/s\u001b[0m eta \u001b[36m0:00:00\u001b[0m\n",
            "\u001b[2K     \u001b[90m━━━━━━━━━━━━━━━━━━━━━━━━━━━━━━━━━━━━━━━━\u001b[0m \u001b[32m7.8/7.8 MB\u001b[0m \u001b[31m65.2 MB/s\u001b[0m eta \u001b[36m0:00:00\u001b[0m\n",
            "\u001b[2K     \u001b[90m━━━━━━━━━━━━━━━━━━━━━━━━━━━━━━━━━━━━━━━━\u001b[0m \u001b[32m67.3/67.3 kB\u001b[0m \u001b[31m6.4 MB/s\u001b[0m eta \u001b[36m0:00:00\u001b[0m\n",
            "\u001b[?25h  Installing build dependencies ... \u001b[?25l\u001b[?25hdone\n",
            "  Getting requirements to build wheel ... \u001b[?25l\u001b[?25hdone\n",
            "  Preparing metadata (pyproject.toml) ... \u001b[?25l\u001b[?25hdone\n",
            "\u001b[2K     \u001b[90m━━━━━━━━━━━━━━━━━━━━━━━━━━━━━━━━━━━━━━━━\u001b[0m \u001b[32m67.0/67.0 kB\u001b[0m \u001b[31m6.2 MB/s\u001b[0m eta \u001b[36m0:00:00\u001b[0m\n",
            "\u001b[2K     \u001b[90m━━━━━━━━━━━━━━━━━━━━━━━━━━━━━━━━━━━━━━━━\u001b[0m \u001b[32m46.0/46.0 kB\u001b[0m \u001b[31m4.3 MB/s\u001b[0m eta \u001b[36m0:00:00\u001b[0m\n",
            "\u001b[2K     \u001b[90m━━━━━━━━━━━━━━━━━━━━━━━━━━━━━━━━━━━━━━━━\u001b[0m \u001b[32m58.3/58.3 kB\u001b[0m \u001b[31m6.1 MB/s\u001b[0m eta \u001b[36m0:00:00\u001b[0m\n",
            "\u001b[2K     \u001b[90m━━━━━━━━━━━━━━━━━━━━━━━━━━━━━━━━━━━━━━\u001b[0m \u001b[32m428.8/428.8 kB\u001b[0m \u001b[31m36.1 MB/s\u001b[0m eta \u001b[36m0:00:00\u001b[0m\n",
            "\u001b[2K     \u001b[90m━━━━━━━━━━━━━━━━━━━━━━━━━━━━━━━━━━━━━━━━\u001b[0m \u001b[32m4.1/4.1 MB\u001b[0m \u001b[31m86.3 MB/s\u001b[0m eta \u001b[36m0:00:00\u001b[0m\n",
            "\u001b[2K     \u001b[90m━━━━━━━━━━━━━━━━━━━━━━━━━━━━━━━━━━━━━━━━\u001b[0m \u001b[32m1.3/1.3 MB\u001b[0m \u001b[31m52.0 MB/s\u001b[0m eta \u001b[36m0:00:00\u001b[0m\n",
            "\u001b[2K     \u001b[90m━━━━━━━━━━━━━━━━━━━━━━━━━━━━━━━━━━━━━━\u001b[0m \u001b[32m129.9/129.9 kB\u001b[0m \u001b[31m13.2 MB/s\u001b[0m eta \u001b[36m0:00:00\u001b[0m\n",
            "\u001b[2K     \u001b[90m━━━━━━━━━━━━━━━━━━━━━━━━━━━━━━━━━━━━━━━━\u001b[0m \u001b[32m86.8/86.8 kB\u001b[0m \u001b[31m8.9 MB/s\u001b[0m eta \u001b[36m0:00:00\u001b[0m\n",
            "\u001b[?25h  Building wheel for chroma-hnswlib (pyproject.toml) ... \u001b[?25l\u001b[?25hdone\n",
            "  Building wheel for pypika (pyproject.toml) ... \u001b[?25l\u001b[?25hdone\n"
          ]
        }
      ]
    },
    {
      "cell_type": "code",
      "source": [
        "from langchain.vectorstores import Chroma\n",
        "\n",
        "persist_directory = \"vector_db\"\n",
        "\n",
        "vectordb = Chroma.from_documents(documents=documents, embedding=embeddings, persist_directory=persist_directory)"
      ],
      "metadata": {
        "id": "1z6M32_kf3kO"
      },
      "execution_count": null,
      "outputs": []
    },
    {
      "cell_type": "code",
      "source": [
        "vectordb.persist()\n",
        "vectordb = None"
      ],
      "metadata": {
        "id": "l6Z9mah_gds4"
      },
      "execution_count": null,
      "outputs": []
    },
    {
      "cell_type": "code",
      "source": [
        "vectordb = Chroma(persist_directory=persist_directory, embedding_function=embeddings)"
      ],
      "metadata": {
        "id": "8aFpZn0aghHI"
      },
      "execution_count": null,
      "outputs": []
    },
    {
      "cell_type": "code",
      "source": [
        "from langchain.chat_models import ChatOpenAI\n",
        "\n",
        "llm = ChatOpenAI(temperature=0)"
      ],
      "metadata": {
        "id": "dY-fQEF0gkZ8"
      },
      "execution_count": null,
      "outputs": []
    },
    {
      "cell_type": "code",
      "source": [
        "doc_retriever = vectordb.as_retriever()"
      ],
      "metadata": {
        "id": "hmVUCIBpgqvD"
      },
      "execution_count": null,
      "outputs": []
    },
    {
      "cell_type": "code",
      "source": [
        "from langchain.chains import RetrievalQA\n",
        "\n",
        "resume_qa = RetrievalQA.from_chain_type(llm=llm, chain_type=\"stuff\", retriever=doc_retriever)"
      ],
      "metadata": {
        "id": "wsuYliu4gtUe"
      },
      "execution_count": null,
      "outputs": []
    },
    {
      "cell_type": "code",
      "source": [
        "\n",
        "#https://python.langchain.com/docs/modules/model_io/prompts/prompt_templates/\n",
        "\n",
        "from langchain.prompts import PromptTemplate\n",
        "prompt_template = \"\"\"You are a resume expert. You will be given a resume or both a\n",
        "resume and a job description, and any special circumstances. You will first determine\n",
        "the experience level (such as entry-level, jr, or senior) of the candidate\n",
        "and what type of job they should apply to such as data scientist, full-stack engineer,\n",
        "dentist, etc. You will then generate a report on their resume based on best practices\n",
        "and their experience level and situation, and special circumstances.\n",
        "Be sure to address their special circumstances, if any. If a job description is given\n",
        "you should also include helpful information about how to optimize their resume to that\n",
        "specific job. Lastly, you will apply all the recommendations\n",
        "you made in the report to generate a optimized resume. You will not make up any information\n",
        "about the candidate in the optimized version of the resume. Optmize the resume even if\n",
        "they are not a good fit, assume that they are changing careers and give advice to that effect.\n",
        "You may include recommendations not included as long as you make it clear you included\n",
        "them and denote the recommendations you made via ***recommendations***.\n",
        "\n",
        "Special circumstance(s): {special}\n",
        "\n",
        "Resume: {resume}\n",
        "\n",
        "Job Description: {job_description}\n",
        "\n",
        "Output:\"\"\"\n"
      ],
      "metadata": {
        "id": "8Buo69JInHif"
      },
      "execution_count": null,
      "outputs": []
    },
    {
      "cell_type": "code",
      "source": [
        "PROMPT = PromptTemplate(\n",
        "    template=prompt_template, input_variables=[\"resume\", \"job_description\", \"special\"]\n",
        ")"
      ],
      "metadata": {
        "id": "2iyy9muXfaQv"
      },
      "execution_count": null,
      "outputs": []
    },
    {
      "cell_type": "code",
      "source": [
        "special_1 = 'none'\n",
        "special_2 = 'switching careers'\n",
        "special_3 = 'career break. For context, today is %s' %today"
      ],
      "metadata": {
        "id": "hvmDPWID95gQ"
      },
      "execution_count": null,
      "outputs": []
    },
    {
      "cell_type": "code",
      "source": [
        "resume = '''Personal Information:\n",
        "\n",
        "John Doe\n",
        "123 Main St, City, State 12345\n",
        "Phone: (123) 456-7890\n",
        "Email: john.doe@example.com\n",
        "\n",
        "Objective:\n",
        "\n",
        "A budding data scientist with an academic background in Statistics and Computer Science, looking to leverage my skills in data analysis, machine learning, and programming at a progressive organization that encourages innovative thought.\n",
        "\n",
        "Education:\n",
        "\n",
        "Bachelor of Science in Computer Science, Minor in Statistics\n",
        "University XYZ\n",
        "August 2019 - May 2023\n",
        "\n",
        "Skills:\n",
        "\n",
        "Programming Languages: Python, R, SQL\n",
        "Libraries: NumPy, Pandas, Matplotlib, Seaborn, Scikit-learn\n",
        "Tools: Jupyter Notebooks, Tableau, Git\n",
        "Machine Learning: Regression, Classification, Clustering, Neural Networks\n",
        "Strong analytical and problem-solving skills\n",
        "Projects:\n",
        "\n",
        "Predictive Analysis of Airline Customer Satisfaction: Utilized machine learning algorithms to predict customer satisfaction for an airline company. Cleaned and analyzed a dataset of over 10,000 entries, implemented multiple regression models and improved prediction accuracy by 15%.\n",
        "\n",
        "Analyzing and Visualizing NYC 311 Calls Data: Performed data cleaning, analysis, and visualization on a dataset of over 1 million 311 calls. Presented findings in an interactive dashboard using Tableau.\n",
        "\n",
        "Work Experience:\n",
        "\n",
        "Data Analyst Intern - Company ABC, City, State\n",
        "June 2023 - Present\n",
        "\n",
        "Assisting in data preprocessing, analysis, and generating insightful reports for decision-making.\n",
        "Implemented machine learning models to predict future sales, improving forecast accuracy by 10%.\n",
        "Certifications:\n",
        "\n",
        "Data Science Certification – Coursera\n",
        "Certified: Python for Data Science – edX\n",
        "References:\n",
        "\n",
        "Available upon request'''"
      ],
      "metadata": {
        "id": "akU1ygB7gWZ1"
      },
      "execution_count": null,
      "outputs": []
    },
    {
      "cell_type": "code",
      "source": [
        "job_description ='''\n",
        "Qualifications\n",
        "•The ideal candidate should possess a strong analytical mindset, excellent problem-solving abilities, and a passion for translating data into actionable strategies\n",
        "•Bachelor's degree in Computer Science, Statistics, Mathematics, or a related field\n",
        "•5+ years proven experience as a Data Scientist or a related role, with a strong track record of delivering impactful data-driven solutions\n",
        "•Proficiency in programming languages such as Python, R, or Java, along with experience using data manipulation and analysis libraries (e.g., Pandas, NumPy, scikit-learn)\n",
        "•Solid understanding of statistical analysis, machine learning algorithms, and experimental design\n",
        "•Proficiency in SQL and experience working with relational databases (e.g., MySQL, PostgreSQL)\n",
        "•Strong data visualization skills using tools such as Tableau, Power BI, or D3.js\n",
        "•Excellent problem-solving abilities and a keen attention to detail\n",
        "•Strong written and verbal communication skills with the ability to effectively present complex findings to non-technical stakeholders\n",
        "•Ability to work independently and collaborate effectively in a team-oriented environment\n",
        "•Strong organizational skills and the ability to manage multiple projects and priorities\n",
        "•McAllen, TX 78501: Reliably commute or planning to relocate before starting work (Required)\n",
        "Responsibilities\n",
        "•As a Data Scientist, you will play a critical role in extracting actionable insights from complex data sets to enhance business decision-making and drive organizational growth\n",
        "•You will collaborate with cross-functional teams to identify data-driven opportunities, develop and implement advanced analytical models, and deliver compelling visualizations and reports\n",
        "•Collaborate with stakeholders to identify business objectives and data-driven opportunities\n",
        "•Develop and implement cutting-edge predictive and prescriptive models using statistical analysis and machine learning techniques\n",
        "•Clean, preprocess, and analyze large and complex data sets to uncover hidden patterns and insights\n",
        "•Create robust data pipelines and automate data extraction, transformation, and loading (ETL) processes\n",
        "•Design and execute experiments to test hypotheses, analyze results, and provide actionable recommendations\n",
        "•Develop and deploy data-driven dashboards, reports, and visualizations to communicate findings effectively\n",
        "•Stay updated with the latest industry trends and advancements in data science techniques and tools\n",
        "•Present findings and recommendations to key stakeholders in a clear and concise manner\n",
        "•Provide guidance and mentorship to junior team members, as needed\n",
        "Benefits\n",
        "•Competitive salary commensurate with experience\n",
        "•Comprehensive health, dental, and vision insurance plans\n",
        "•Retirement savings plan\n",
        "•Paid vacation, holidays, and sick leave\n",
        "•Professional development and training opportunities\n",
        "•Pay: From $120,000.00 per year\n",
        "•Flexible schedule\n",
        "•Paid time off\n",
        "•Parental leave\n",
        "•Relocation assistance\n",
        "•Supplemental pay types:\n",
        "•Bonus pay\n",
        "'''"
      ],
      "metadata": {
        "id": "ASNpB5Q0iajh"
      },
      "execution_count": null,
      "outputs": []
    },
    {
      "cell_type": "code",
      "source": [
        "response_1 = resume_qa(PROMPT.format(resume=resume, job_description=job_description, special = special_1))\n"
      ],
      "metadata": {
        "id": "dOqzLo5jsJLG"
      },
      "execution_count": null,
      "outputs": []
    },
    {
      "cell_type": "code",
      "source": [
        "print(response_1['result'])"
      ],
      "metadata": {
        "colab": {
          "base_uri": "https://localhost:8080/"
        },
        "id": "vCpdqYjMsfEt",
        "outputId": "207eadc0-b49f-4414-c244-32c2122693d6"
      },
      "execution_count": null,
      "outputs": [
        {
          "output_type": "stream",
          "name": "stdout",
          "text": [
            "Based on the provided resume, the candidate appears to be an entry-level data scientist or data analyst. They have a strong academic background in Statistics and Computer Science, as well as relevant skills in programming languages, machine learning, and data analysis.\n",
            "\n",
            "To optimize the resume for data scientist positions, here are some recommendations:\n",
            "\n",
            "1. Objective: The objective statement is well-written and highlights the candidate's skills and goals. No changes are necessary.\n",
            "\n",
            "2. Education: The education section is well-presented, mentioning the degree, university, and expected graduation date. No changes are necessary.\n",
            "\n",
            "3. Skills: The skills section is comprehensive and includes relevant programming languages, libraries, tools, and machine learning techniques. No changes are necessary.\n",
            "\n",
            "4. Projects: The projects section showcases the candidate's practical experience in data analysis and machine learning. However, it would be beneficial to provide more details about the methodologies used, the impact of the projects, and any specific outcomes achieved.\n",
            "\n",
            "5. Work Experience: The candidate has an ongoing internship as a Data Analyst, which is relevant to their career goals. It would be helpful to provide more details about the specific tasks, projects, and achievements during the internship.\n",
            "\n",
            "6. Certifications: The certifications section demonstrates the candidate's commitment to continuous learning and professional development. No changes are necessary.\n",
            "\n",
            "Based on the provided job description, the candidate's resume can be further optimized by incorporating the following recommendations:\n",
            "\n",
            "- Emphasize strong analytical mindset and problem-solving abilities in the objective statement.\n",
            "- Highlight the relevant coursework or projects related to statistical analysis, machine learning algorithms, and experimental design.\n",
            "- Showcase experience with SQL and working with relational databases.\n",
            "- Emphasize data visualization skills using tools such as Tableau.\n",
            "- Highlight strong written and verbal communication skills, as well as the ability to present complex findings to non-technical stakeholders.\n",
            "- Mention any experience working in a team-oriented environment and managing multiple projects and priorities.\n",
            "\n",
            "***Recommendations:***\n",
            "\n",
            "- Provide more details and specific outcomes achieved in the projects section.\n",
            "- Expand on the tasks, projects, and achievements during the Data Analyst internship.\n",
            "- Incorporate the relevant qualifications and responsibilities from the job description into the resume.\n",
            "\n",
            "Optimized Resume:\n",
            "\n",
            "Personal Information:\n",
            "\n",
            "John Doe\n",
            "123 Main St, City, State 12345\n",
            "Phone: (123) 456-7890\n",
            "Email: john.doe@example.com\n",
            "\n",
            "Objective:\n",
            "\n",
            "A budding data scientist with an academic background in Statistics and Computer Science, looking to leverage my skills in data analysis, machine learning, and programming at a progressive organization that encourages innovative thought. Strong analytical mindset, excellent problem-solving abilities, and a passion for translating data into actionable strategies.\n",
            "\n",
            "Education:\n",
            "\n",
            "Bachelor of Science in Computer Science, Minor in Statistics\n",
            "University XYZ\n",
            "August 2019 - May 2023\n",
            "\n",
            "Skills:\n",
            "\n",
            "Programming Languages: Python, R, SQL\n",
            "Libraries: NumPy, Pandas, Matplotlib, Seaborn, Scikit-learn\n",
            "Tools: Jupyter Notebooks, Tableau, Git\n",
            "Machine Learning: Regression, Classification, Clustering, Neural Networks\n",
            "Strong analytical and problem-solving skills\n",
            "\n",
            "Projects:\n",
            "\n",
            "Predictive Analysis of Airline Customer Satisfaction: Utilized machine learning algorithms to predict customer satisfaction for an airline company. Cleaned and analyzed a dataset of over 10,000 entries, implemented multiple regression models, and improved prediction accuracy by 15%. Presented findings and recommendations to stakeholders.\n",
            "\n",
            "Analyzing and Visualizing NYC 311 Calls Data: Performed data cleaning, analysis, and visualization on a dataset of over 1 million 311 calls. Developed interactive dashboards using Tableau to present key insights and trends.\n",
            "\n",
            "Work Experience:\n",
            "\n",
            "Data Analyst Intern - Company ABC, City, State\n",
            "June 2023 - Present\n",
            "\n",
            "- Assisted in data preprocessing, analysis, and generating insightful reports for decision-making.\n",
            "- Implemented machine learning models to predict future sales, improving forecast accuracy by 10%.\n",
            "- Collaborated with cross-functional teams to identify data-driven opportunities and deliver compelling visualizations and reports.\n",
            "\n",
            "Certifications:\n",
            "\n",
            "Data Science Certification – Coursera\n",
            "Certified: Python for Data Science – edX\n",
            "\n",
            "References:\n",
            "\n",
            "Available upon request\n",
            "\n",
            "Note: The optimized resume incorporates the recommendations mentioned above and aligns the candidate's experience and skills with the job description.\n"
          ]
        }
      ]
    },
    {
      "cell_type": "code",
      "source": [
        "job_description_2 = '''\n",
        "Qualifications\n",
        "•Bachelor's degree in an engineering discipline\n",
        "•Experience with at least one commercial FEA or multiphysics simulation package (e.g\n",
        "•Experience with mechanical design and analysis (internship experience qualifies)\n",
        "•Python, Matlab, Excel)\n",
        "•Self-motivated with strong organizational, written, and oral communication skills\n",
        "•Analytical/scientific programming experience (i.e\n",
        "•Ability to work extended hours and weekends as necessary\n",
        "•To conform to U.S. Government export regulations, applicant must be a (i) U.S. citizen or national, (ii) U.S. lawful, permanent resident (aka green card holder), (iii) Refugee under 8 U.S.C. § 1157, or (iv) Asylee under 8 U.S.C. § 1158, or be eligible to obtain the required authorizations from the U.S\n",
        "Responsibilities\n",
        "•Own primary and secondary structures on Starship\n",
        "•Design flight hardware to achieve ascent, entry, and rapid reuse of next generation launch vehicle\n",
        "•Develop design criteria where definition is lacking\n",
        "•Perform hand calculations and FEA to develop, assess, and optimize designs\n",
        "•Incorporate design for manufacturing principles and supervise first article builds\n",
        "•Balance operational needs across vehicle systems while optimizing for development speed, mass and cost\n",
        "•Design and execute qualification testing\n",
        "Benefits\n",
        "•Mechanical Engineer/Level I: $95,000.00 - $115,000.00/per year\n",
        "•Mechanical Engineer/Level II: $110,000.00 - $130,000.00/per year\n",
        "•Base salary is just one part of your total rewards package at SpaceX\n",
        "•You may also be eligible for long-term incentives, in the form of company stock, stock options, or long-term cash awards, as well as potential discretionary bonuses and the ability to purchase additional stock at a discount through an Employee Stock Purchase Plan\n",
        "•You will also receive access to comprehensive medical, vision, and dental coverage, access to a 401(k) retirement plan, short and long-term disability insurance, life insurance, paid parental leave, and various other discounts and perks\n",
        "•You may also accrue 3 weeks of paid vacation and will be eligible for 10 or more paid holidays per year\n",
        "•Exempt employees are eligible for 5 days of sick leave per year\n",
        "'''"
      ],
      "metadata": {
        "id": "0kIK9FJLvJSx"
      },
      "execution_count": null,
      "outputs": []
    },
    {
      "cell_type": "code",
      "source": [
        "response_2 = resume_qa(PROMPT.format(resume=resume, job_description=job_description_2, special = special_2))"
      ],
      "metadata": {
        "id": "flG_xHhTxOQO"
      },
      "execution_count": null,
      "outputs": []
    },
    {
      "cell_type": "code",
      "source": [
        "print(response_2['result'])\n"
      ],
      "metadata": {
        "colab": {
          "base_uri": "https://localhost:8080/"
        },
        "id": "h4_-TmcIxXKC",
        "outputId": "2eb4f3fa-7605-44d8-ae8b-d9674e04dd46"
      },
      "execution_count": null,
      "outputs": [
        {
          "output_type": "stream",
          "name": "stdout",
          "text": [
            "Based on the resume provided, the candidate is a budding data scientist with a background in Statistics and Computer Science. They have relevant skills in programming languages such as Python, R, and SQL, as well as experience with libraries and tools commonly used in data analysis and machine learning. They have also completed projects that demonstrate their ability to apply their skills in real-world scenarios.\n",
            "\n",
            "Considering the candidate's special circumstance of switching careers, it is important to highlight their transferable skills and showcase how their previous experience and education can be valuable in a data science role. Here are some recommendations for optimizing the resume:\n",
            "\n",
            "1. Objective: The objective statement should be revised to emphasize the candidate's transferable skills and their motivation to transition into a data science role. For example:\n",
            "\n",
            "Objective: A highly motivated and analytical professional with a strong background in Statistics and Computer Science, seeking to leverage my programming skills and data analysis expertise in a data science role.\n",
            "\n",
            "2. Education: The education section can remain as is, highlighting the candidate's Bachelor of Science degree in Computer Science with a minor in Statistics. However, it may be beneficial to include relevant coursework or projects that demonstrate their proficiency in data science concepts.\n",
            "\n",
            "3. Skills: The skills section is comprehensive and includes relevant programming languages, libraries, and tools. However, it would be helpful to prioritize the skills that are most relevant to the desired data science role. For example:\n",
            "\n",
            "Skills:\n",
            "- Programming Languages: Python, R, SQL\n",
            "- Data Analysis: NumPy, Pandas, Matplotlib, Seaborn\n",
            "- Machine Learning: Scikit-learn, Regression, Classification, Clustering\n",
            "- Tools: Jupyter Notebooks, Tableau, Git\n",
            "\n",
            "4. Projects: The projects section is a strong point in the resume and should be highlighted. However, it would be beneficial to provide more details on the methodologies used and the impact of the projects. For example:\n",
            "\n",
            "Projects:\n",
            "- Predictive Analysis of Airline Customer Satisfaction: Utilized machine learning algorithms, including multiple regression models, to predict customer satisfaction for an airline company. Cleaned and analyzed a dataset of over 10,000 entries, resulting in a 15% improvement in prediction accuracy.\n",
            "- Analyzing and Visualizing NYC 311 Calls Data: Performed data cleaning, analysis, and visualization on a dataset of over 1 million 311 calls. Presented findings in an interactive dashboard using Tableau, providing actionable insights for city officials.\n",
            "\n",
            "5. Work Experience: Since the candidate is switching careers, their current work experience as a Data Analyst Intern may not be directly relevant to a data science role. However, it is still valuable to include this experience to showcase their ability to work in a professional setting and their exposure to data-related tasks. It would be beneficial to highlight any transferable skills or accomplishments from this role.\n",
            "\n",
            "6. Certifications: The certifications section can remain as is, as they demonstrate the candidate's commitment to continuous learning and their proficiency in Python for data science.\n",
            "\n",
            "7. Job Description Optimization: Based on the provided job description for a Mechanical Engineer position, it is not directly applicable to the candidate's background in data science. However, it is important to tailor the resume to the specific job description when applying for positions. In this case, the candidate should focus on highlighting transferable skills such as analytical/scientific programming experience, strong organizational and communication skills, and experience with mechanical design and analysis.\n",
            "\n",
            "***Recommendations:***\n",
            "- Revise the objective statement to emphasize transferable skills and motivation to transition into a data science role.\n",
            "- Prioritize and highlight the most relevant skills for a data science position.\n",
            "- Provide more details and impact of projects to showcase the candidate's abilities.\n",
            "- Highlight transferable skills and accomplishments from the current work experience as a Data Analyst Intern.\n",
            "- Tailor the resume to the specific job description when applying for positions, focusing on transferable skills.\n",
            "\n",
            "Optimized Resume:\n",
            "\n",
            "Personal Information:\n",
            "\n",
            "John Doe\n",
            "123 Main St, City, State 12345\n",
            "Phone: (123) 456-7890\n",
            "Email: john.doe@example.com\n",
            "\n",
            "Objective:\n",
            "\n",
            "A highly motivated and analytical professional with a strong background in Statistics and Computer Science, seeking to leverage my programming skills and data analysis expertise in a data science role.\n",
            "\n",
            "Education:\n",
            "\n",
            "Bachelor of Science in Computer Science, Minor in Statistics\n",
            "University XYZ\n",
            "August 2019 - May 2023\n",
            "\n",
            "Skills:\n",
            "- Programming Languages: Python, R, SQL\n",
            "- Data Analysis: NumPy, Pandas, Matplotlib, Seaborn\n",
            "- Machine Learning: Scikit-learn, Regression, Classification, Clustering\n",
            "- Tools: Jupyter Notebooks, Tableau, Git\n",
            "\n",
            "Projects:\n",
            "- Predictive Analysis of Airline Customer Satisfaction: Utilized machine learning algorithms, including multiple regression models, to predict customer satisfaction for an airline company. Cleaned and analyzed a dataset of over 10,000 entries, resulting in a 15% improvement in prediction accuracy.\n",
            "- Analyzing and Visualizing NYC 311 Calls Data: Performed data cleaning, analysis, and visualization on a dataset of over 1 million 311 calls. Presented findings in an interactive dashboard using Tableau, providing actionable insights for city officials.\n",
            "\n",
            "Work Experience:\n",
            "\n",
            "Data Analyst Intern - Company ABC, City, State\n",
            "June 2023 - Present\n",
            "\n",
            "- Assisted in data preprocessing, analysis, and generating insightful reports for decision-making.\n",
            "- Implemented machine learning models to predict future sales, improving forecast accuracy by 10%.\n",
            "\n",
            "Certifications:\n",
            "\n",
            "- Data Science Certification – Coursera\n",
            "- Certified: Python for Data Science – edX\n",
            "\n",
            "References:\n",
            "\n",
            "Available upon request\n"
          ]
        }
      ]
    },
    {
      "cell_type": "code",
      "source": [
        "resume_3 = '''Personal Information:\n",
        "\n",
        "Jane Doe\n",
        "123 Main St, City, State 12345\n",
        "Phone: (123) 456-7890\n",
        "Email: jane.doe@example.com\n",
        "\n",
        "Objective:\n",
        "\n",
        "Accomplished data scientist with over 7 years of experience in utilizing data-driven decision making to solve complex business problems. Looking to leverage my extensive background in machine learning, data mining, and predictive modeling in a challenging role.\n",
        "\n",
        "Education:\n",
        "\n",
        "Master of Science in Data Science\n",
        "XYZ University\n",
        "August 2010 - May 2012\n",
        "\n",
        "Skills:\n",
        "\n",
        "Programming Languages: Python, R, SQL, Java\n",
        "Libraries: NumPy, Pandas, Matplotlib, Seaborn, Scikit-learn, TensorFlow\n",
        "Tools: Jupyter Notebooks, Tableau, Apache Spark, Hadoop\n",
        "Machine Learning: Deep Learning, Reinforcement Learning, Natural Language Processing\n",
        "Strong leadership and project management skills\n",
        "Projects:\n",
        "\n",
        "Fraud Detection System: Designed and developed a fraud detection system using machine learning models which reduced the fraudulent transactions by 30%.\n",
        "\n",
        "Predictive Maintenance of Industrial Machines: Implemented predictive analytics to anticipate the failure of machine parts which decreased the maintenance cost by 20%.\n",
        "\n",
        "Work Experience:\n",
        "\n",
        "Senior Data Scientist - Company ABC, City, State\n",
        "June 2016 - May 2020\n",
        "\n",
        "Led a team of 5 data scientists to manage machine learning and data science projects from conception to execution.\n",
        "Developed predictive models using machine learning algorithms to drive strategic decisions, resulting in a 25% increase in marketing campaign effectiveness.\n",
        "Data Scientist - Company XYZ, City, State\n",
        "May 2012 - June 2016\n",
        "\n",
        "Managed and analyzed big data, implemented machine learning models for various business needs.\n",
        "Assisted in creating a recommendation engine for the e-commerce platform, resulting in a 20% increase in sales.\n",
        "Certifications:\n",
        "\n",
        "Certified Data Scientist – Data Science Council of America (DASCA)\n",
        "Advanced SQL for Data Scientists – Coursera\n",
        "References:\n",
        "\n",
        "Available upon request'''"
      ],
      "metadata": {
        "id": "zplGYr8G-32y"
      },
      "execution_count": null,
      "outputs": []
    },
    {
      "cell_type": "code",
      "source": [
        "job_description_3 = '''Work with Commercial Analytics Research & Development team to establish data science capabilities within CITGO. Design, develop and implement data-driven solutions that help the organization make better decisions, and drive the adoption of data-driven decision making within the organization. The role requires a combination of technical skills in data science, software engineering and machine learning, as well as communication and project management skills.\n",
        "\n",
        "Analysis is concerned with three primary areas: (1) Optimization Solutions, such as measurement of competitive performance and its drivers, customer/product mix, sales lift studies, price elasticities, etc., (2) Predictive & Exploratory Analytics, such as demand forecasting, prioritization of trends, market potential for new business models, (3) Thought Leadership, such as applying augmented decision making with ML/AI, creative use of internal and external data sources with pragmatic curiosity.\n",
        "\n",
        "Individual will act as an individual contributor within a group of technical personnel.\n",
        "\n",
        "Individual will function in the capacity of a full stack decision scientist to address majority of initial hard data science needs as data science team begins establishment.\n",
        "\n",
        "Individual will develop and implement predictive modelling to optimize profitability and decision-making capabilities.\n",
        "\n",
        "Individual will collaborate with stakeholders to understand business needs and decision-making processes.\n",
        "\n",
        "Requires very strong understanding of the business drivers of decision making and communicating complex insights to a diverse audience.\n",
        "\n",
        "Requires application of well-developed technical knowledge in data science, conducting and coordinating difficult, responsible assignments.\n",
        "\n",
        "Minimum Qualifications:\n",
        "\n",
        "Degree:\n",
        "• Bachelor’s Degree.\n",
        "• Masters or PhD degree in computer science, statistics, data science or similar strongly preferred.\n",
        "\n",
        "The minimun number of years of job related experience required by this job is:\n",
        "• 8-10+ years.\n",
        "\n",
        "List any specialized training or unique skills required:\n",
        "• Deep understanding of data science/decision science concepts and techniques, as well as hands on experience building data-driven solutions using machine learning algorithms, statistical models and data visualization tools, required.\n",
        "• Experience with major cloud computing platforms (Azure, AWS, etc.) required.\n",
        "• Experience with Azure platforms strongly preferred.\n",
        "• Proficiency in data analytics tools such as Python, R, SQL preferred.\n",
        "• Understanding of downstream oil & gas business preferred.\n",
        "• Ability to effectively manage project timelines, budgets and resources is necessary.\n",
        "• Excellent written and verbal communication skills preferred.\n",
        "• Strong knowledge of data privacy, security and governance regulations/best practices.\n",
        "• Ability to simplify complex information.\n",
        "• Desire and willingness to continuously expand knowledge and skills.\n",
        "• Passionate and creative about solving complex and difficult problems, both in group and individual settings\n",
        "• Applicant must be self-starter and comfortable with situations where solutions are not always clear or obvious.\n",
        "\n",
        "Job Duties:\n",
        "• Develop & implement data-driven solutions to support decision making, such as predictive models, data visualization dashboards and machine learning algorithms. Communicate the results of data science projects to key stakeholders and executive leadership, promoting the adoption and integration of data science into decision-making processes.\n",
        "• Collaborate with Commercial Analytics R&D & business units to identify and prioritize data science projects that can deliver business value. This may involve conducting data analysis and data discovery activities to understand the current state of the data assets and how they can be leveraged to support decision making.\n",
        "• Collaborate with Commercial Analytics R&D team to establish the necessary strategies, technical infrastructure and tools to support data science activities, including data storage, data processing and machine learning. Approaches for this should have a heightened focus on approaches that are innovative, organizationally sustainable, modern, transparent and efficient.\n",
        "• Ensure that data privacy, security and governance standards are met in all data science projects. Work with IT and Commercial Analytics R&D to implement appropriate measures for data collection, processing, storage and protection. Ensure that data is of high quality, properly documented, and stored and managed in a manner that meets regulatory and organizational requirements.\n",
        "• Stay current on new techniques, technologies and tools in data science, machine learning and the oil and gas industry and evaluate and determine their potential applications for the organization. Requires a commitment to ongoing professional development and a willingness to continuously expand expertise, which includes attending regular training, industry events, reading trade publications and engaging with colleagues and peers in the field.'''"
      ],
      "metadata": {
        "id": "V2pk1kxt_myS"
      },
      "execution_count": null,
      "outputs": []
    },
    {
      "cell_type": "code",
      "source": [
        "response_3 = resume_qa(PROMPT.format(resume=resume_3, job_description=job_description_3, special = special_3))"
      ],
      "metadata": {
        "id": "TxIHjzcV_Qmv"
      },
      "execution_count": null,
      "outputs": []
    },
    {
      "cell_type": "code",
      "source": [
        "print(response_3['result'])"
      ],
      "metadata": {
        "colab": {
          "base_uri": "https://localhost:8080/"
        },
        "id": "E8pyZR3-IQLa",
        "outputId": "ceff3cab-62a5-4ebe-b4ff-791f0c8e154c"
      },
      "execution_count": null,
      "outputs": [
        {
          "output_type": "stream",
          "name": "stdout",
          "text": [
            "Based on the provided resume and job description, the candidate is an experienced data scientist with over 7 years of experience. They are seeking a challenging role that allows them to leverage their background in machine learning, data mining, and predictive modeling. The job description is for a position within CITGO, where the individual will be responsible for establishing data science capabilities and implementing data-driven solutions.\n",
            "\n",
            "Here are some recommendations for optimizing the candidate's resume:\n",
            "\n",
            "1. Objective: The objective statement should be tailored to the specific job description. In this case, the candidate can modify their objective to highlight their interest in establishing data science capabilities within CITGO and driving data-driven decision making.\n",
            "\n",
            "***Recommendation: Modify the objective statement to align with the job description and emphasize the candidate's interest in establishing data science capabilities within CITGO.***\n",
            "\n",
            "2. Skills: The candidate's skills section is comprehensive and covers relevant programming languages, libraries, tools, and machine learning techniques. However, it would be beneficial to highlight any experience or expertise in cloud computing platforms, such as Azure, as mentioned in the job description.\n",
            "\n",
            "***Recommendation: Add a bullet point under the skills section to highlight experience with major cloud computing platforms, specifically Azure.***\n",
            "\n",
            "3. Work Experience: The candidate's work experience section showcases their progression from a Data Scientist to a Senior Data Scientist role. However, there is a career break from May 2020 to the present. It is important to address this gap in the resume and provide an explanation for the career break.\n",
            "\n",
            "***Recommendation: Add a summary section addressing the career break and explaining the reason for the break, such as providing care for a relative. Highlight any relevant volunteering or part-time work done during the break to refresh skills.***\n",
            "\n",
            "4. Certifications: The candidate's certifications are relevant and demonstrate their commitment to professional development. However, there are no certifications mentioned that specifically align with the job description. It would be beneficial to include any certifications related to cloud computing platforms or data privacy/security.\n",
            "\n",
            "***Recommendation: Consider adding certifications related to cloud computing platforms or data privacy/security to align with the job description.***\n",
            "\n",
            "5. Projects: The candidate's projects demonstrate their ability to apply data science techniques to solve real-world problems. It would be helpful to provide more details about the impact and outcomes of each project, as well as any specific challenges faced and how they were overcome.\n",
            "\n",
            "***Recommendation: Add bullet points under each project to provide more details about the impact, outcomes, challenges, and solutions implemented.***\n",
            "\n",
            "Based on these recommendations, here is an optimized version of the resume:\n",
            "\n",
            "Personal Information:\n",
            "\n",
            "Jane Doe\n",
            "123 Main St, City, State 12345\n",
            "Phone: (123) 456-7890\n",
            "Email: jane.doe@example.com\n",
            "\n",
            "Objective:\n",
            "\n",
            "Accomplished data scientist with over 7 years of experience in utilizing data-driven decision making to solve complex business problems. Looking to leverage my extensive background in machine learning, data mining, and predictive modeling to establish data science capabilities within CITGO and drive data-driven decision making.\n",
            "\n",
            "Education:\n",
            "\n",
            "Master of Science in Data Science\n",
            "XYZ University\n",
            "August 2010 - May 2012\n",
            "\n",
            "Skills:\n",
            "\n",
            "Programming Languages: Python, R, SQL, Java\n",
            "Libraries: NumPy, Pandas, Matplotlib, Seaborn, Scikit-learn, TensorFlow\n",
            "Tools: Jupyter Notebooks, Tableau, Apache Spark, Hadoop\n",
            "Machine Learning: Deep Learning, Reinforcement Learning, Natural Language Processing\n",
            "Cloud Computing Platforms: Azure\n",
            "Strong leadership and project management skills\n",
            "\n",
            "Projects:\n",
            "\n",
            "Fraud Detection System: Designed and developed a fraud detection system using machine learning models which reduced the fraudulent transactions by 30%. Implemented the system within a cloud computing environment on Azure.\n",
            "\n",
            "Predictive Maintenance of Industrial Machines: Implemented predictive analytics to anticipate the failure of machine parts which decreased the maintenance cost by 20%. Utilized cloud computing platforms for scalable data processing and storage.\n",
            "\n",
            "Work Experience:\n",
            "\n",
            "Senior Data Scientist - Company ABC, City, State\n",
            "June 2016 - May 2020\n",
            "\n",
            "Led a team of 5 data scientists to manage machine learning and data science projects from conception to execution.\n",
            "Developed predictive models using machine learning algorithms to drive strategic decisions, resulting in a 25% increase in marketing campaign effectiveness.\n",
            "\n",
            "Data Scientist - Company XYZ, City, State\n",
            "May 2012 - June 2016\n",
            "\n",
            "Managed and analyzed big data, implemented machine learning models for various business needs.\n",
            "Assisted in creating a recommendation engine for the e-commerce platform, resulting in a 20% increase in sales.\n",
            "\n",
            "Career Break Summary:\n",
            "\n",
            "I am a confident and capable data scientist with over 7 years of experience in utilizing data-driven decision making to solve complex business problems. I took a career break from May 2020 to the present while providing care for a relative. During this break, I have taken on volunteering work and part-time projects to refresh my skills and stay updated with industry trends.\n",
            "\n",
            "Certifications:\n",
            "\n",
            "Certified Data Scientist – Data Science Council of America (DASCA)\n",
            "Advanced SQL for Data Scientists – Coursera\n",
            "***Recommendation: Consider adding certifications related to cloud computing platforms or data privacy/security to align with the job description.***\n",
            "\n",
            "References:\n",
            "\n",
            "Available upon request\n",
            "\n",
            "By implementing these recommendations, the candidate's resume is optimized to align with the job description and highlight their relevant skills and experience.\n"
          ]
        }
      ]
    },
    {
      "cell_type": "code",
      "source": [
        "result_3 = response_3['result']"
      ],
      "metadata": {
        "id": "LITK7OyB_0pj"
      },
      "execution_count": null,
      "outputs": []
    },
    {
      "cell_type": "code",
      "source": [
        "from datetime import date\n",
        "\n",
        "# Get today's date\n",
        "today = date.today()"
      ],
      "metadata": {
        "id": "7zWQl9qyxneF"
      },
      "execution_count": null,
      "outputs": []
    },
    {
      "cell_type": "code",
      "source": [
        "refine_template = '''\n",
        "You are a resume expert revising the work of one of your peers. Make sure the output makes sense\n",
        "based on best practices.\n",
        "Revise your peer's work and consider and special circumstances the applicant might have.\n",
        "If your peer did not address the applicant's special circumstance, include it in a new report\n",
        "and new optimized resume. Rerender the report and revise the work of the peer.\n",
        "\n",
        "This is your peer's work: {result}\n",
        "\n",
        "Special circumstances: {special}\n",
        "\n",
        "For reference today is {today}. Make sure there are no career gaps.\n",
        "\n",
        "Make sure to output the resume as a python dictionary, using the curly braces.\n",
        "\n",
        "\n",
        "'''\n",
        "\n"
      ],
      "metadata": {
        "id": "2bXSDx2BC82C"
      },
      "execution_count": null,
      "outputs": []
    },
    {
      "cell_type": "code",
      "source": [
        "refined_PROMPT = PromptTemplate(\n",
        "    template=refine_template, input_variables=[\"result\", \"special\", \"today\"])"
      ],
      "metadata": {
        "id": "KRLP-6EfGmXi"
      },
      "execution_count": null,
      "outputs": []
    },
    {
      "cell_type": "code",
      "source": [
        "refined_response_3 = resume_qa(refined_PROMPT.format(result= result_3, special = special_3, today =today))"
      ],
      "metadata": {
        "id": "6QHOW9UAG4la"
      },
      "execution_count": null,
      "outputs": []
    },
    {
      "cell_type": "code",
      "source": [
        "rr_3 = refined_response_3['result']"
      ],
      "metadata": {
        "id": "8T_B0Mh5I-fS"
      },
      "execution_count": null,
      "outputs": []
    },
    {
      "cell_type": "code",
      "source": [
        "rr_3"
      ],
      "metadata": {
        "colab": {
          "base_uri": "https://localhost:8080/",
          "height": 179
        },
        "id": "m9uui1tjDEob",
        "outputId": "d2acdd21-2890-4721-a3fd-ea623b42f1dc"
      },
      "execution_count": null,
      "outputs": [
        {
          "output_type": "execute_result",
          "data": {
            "text/plain": [
              "'{\\n  \"Personal Information\": {\\n    \"Name\": \"Jane Doe\",\\n    \"Address\": \"123 Main St, City, State 12345\",\\n    \"Phone\": \"(123) 456-7890\",\\n    \"Email\": \"jane.doe@example.com\"\\n  },\\n  \"Objective\": \"Accomplished data scientist with over 7 years of experience in utilizing data-driven decision making to solve complex business problems. Looking to leverage my extensive background in machine learning, data mining, and predictive modeling to establish data science capabilities within CITGO and drive data-driven decision making.\",\\n  \"Education\": {\\n    \"Degree\": \"Master of Science in Data Science\",\\n    \"University\": \"XYZ University\",\\n    \"Dates\": \"August 2010 - May 2012\"\\n  },\\n  \"Skills\": {\\n    \"Programming Languages\": \"Python, R, SQL, Java\",\\n    \"Libraries\": \"NumPy, Pandas, Matplotlib, Seaborn, Scikit-learn, TensorFlow\",\\n    \"Tools\": \"Jupyter Notebooks, Tableau, Apache Spark, Hadoop\",\\n    \"Machine Learning\": \"Deep Learning, Reinforcement Learning, Natural Language Processing\",\\n    \"Cloud Computing Platforms\": \"Azure\",\\n    \"Other\": \"Strong leadership and project management skills\"\\n  },\\n  \"Projects\": [\\n    {\\n      \"Title\": \"Fraud Detection System\",\\n      \"Description\": \"Designed and developed a fraud detection system using machine learning models which reduced the fraudulent transactions by 30%. Implemented the system within a cloud computing environment on Azure.\"\\n    },\\n    {\\n      \"Title\": \"Predictive Maintenance of Industrial Machines\",\\n      \"Description\": \"Implemented predictive analytics to anticipate the failure of machine parts which decreased the maintenance cost by 20%. Utilized cloud computing platforms for scalable data processing and storage.\"\\n    }\\n  ],\\n  \"Work Experience\": [\\n    {\\n      \"Title\": \"Senior Data Scientist\",\\n      \"Company\": \"Company ABC\",\\n      \"Location\": \"City, State\",\\n      \"Dates\": \"June 2016 - May 2020\",\\n      \"Responsibilities\": \"Led a team of 5 data scientists to manage machine learning and data science projects from conception to execution. Developed predictive models using machine learning algorithms to drive strategic decisions, resulting in a 25% increase in marketing campaign effectiveness.\"\\n    },\\n    {\\n      \"Title\": \"Data Scientist\",\\n      \"Company\": \"Company XYZ\",\\n      \"Location\": \"City, State\",\\n      \"Dates\": \"May 2012 - June 2016\",\\n      \"Responsibilities\": \"Managed and analyzed big data, implemented machine learning models for various business needs. Assisted in creating a recommendation engine for the e-commerce platform, resulting in a 20% increase in sales.\"\\n    }\\n  ],\\n  \"Career Break Summary\": \"I am a confident and capable data scientist with over 7 years of experience in utilizing data-driven decision making to solve complex business problems. I took a career break from May 2020 to the present while providing care for a relative. During this break, I have taken on volunteering work and part-time projects to refresh my skills and stay updated with industry trends.\",\\n  \"Certifications\": [\\n    \"Certified Data Scientist – Data Science Council of America (DASCA)\",\\n    \"Advanced SQL for Data Scientists – Coursera\"\\n  ],\\n  \"References\": \"Available upon request\"\\n}'"
            ],
            "application/vnd.google.colaboratory.intrinsic+json": {
              "type": "string"
            }
          },
          "metadata": {},
          "execution_count": 42
        }
      ]
    },
    {
      "cell_type": "code",
      "source": [
        "pip install docx"
      ],
      "metadata": {
        "colab": {
          "base_uri": "https://localhost:8080/"
        },
        "id": "NzI-L4zb9_fr",
        "outputId": "81587d32-1cf1-4aef-e91d-b7cc966dd9bd"
      },
      "execution_count": null,
      "outputs": [
        {
          "output_type": "stream",
          "name": "stdout",
          "text": [
            "Collecting docx\n",
            "  Downloading docx-0.2.4.tar.gz (54 kB)\n",
            "\u001b[?25l     \u001b[90m━━━━━━━━━━━━━━━━━━━━━━━━━━━━━━━━━━━━━━━━\u001b[0m \u001b[32m0.0/54.9 kB\u001b[0m \u001b[31m?\u001b[0m eta \u001b[36m-:--:--\u001b[0m\r\u001b[2K     \u001b[90m━━━━━━━━━━━━━━━━━━━━━━━━━━━━━━━━━━━━━━━━\u001b[0m \u001b[32m54.9/54.9 kB\u001b[0m \u001b[31m1.6 MB/s\u001b[0m eta \u001b[36m0:00:00\u001b[0m\n",
            "\u001b[?25h  Preparing metadata (setup.py) ... \u001b[?25l\u001b[?25hdone\n",
            "Requirement already satisfied: lxml in /usr/local/lib/python3.10/dist-packages (from docx) (4.9.3)\n",
            "Requirement already satisfied: Pillow>=2.0 in /usr/local/lib/python3.10/dist-packages (from docx) (9.4.0)\n",
            "Building wheels for collected packages: docx\n",
            "  Building wheel for docx (setup.py) ... \u001b[?25l\u001b[?25hdone\n",
            "  Created wheel for docx: filename=docx-0.2.4-py3-none-any.whl size=53898 sha256=df1eb200f57ce20813f40b14394aa29a61d3eac0115a14481d116d57fd9835b4\n",
            "  Stored in directory: /root/.cache/pip/wheels/81/f5/1d/e09ba2c1907a43a4146d1189ae4733ca1a3bfe27ee39507767\n",
            "Successfully built docx\n",
            "Installing collected packages: docx\n",
            "Successfully installed docx-0.2.4\n"
          ]
        }
      ]
    },
    {
      "cell_type": "code",
      "source": [
        "pip install python-docx\n"
      ],
      "metadata": {
        "colab": {
          "base_uri": "https://localhost:8080/"
        },
        "id": "OjvQhPCM-zfy",
        "outputId": "4c1ece3a-b891-4d42-c81b-3a92dfdb2d41"
      },
      "execution_count": null,
      "outputs": [
        {
          "output_type": "stream",
          "name": "stdout",
          "text": [
            "Collecting python-docx\n",
            "  Downloading python-docx-0.8.11.tar.gz (5.6 MB)\n",
            "\u001b[2K     \u001b[90m━━━━━━━━━━━━━━━━━━━━━━━━━━━━━━━━━━━━━━━━\u001b[0m \u001b[32m5.6/5.6 MB\u001b[0m \u001b[31m21.4 MB/s\u001b[0m eta \u001b[36m0:00:00\u001b[0m\n",
            "\u001b[?25h  Preparing metadata (setup.py) ... \u001b[?25l\u001b[?25hdone\n",
            "Requirement already satisfied: lxml>=2.3.2 in /usr/local/lib/python3.10/dist-packages (from python-docx) (4.9.3)\n",
            "Building wheels for collected packages: python-docx\n",
            "  Building wheel for python-docx (setup.py) ... \u001b[?25l\u001b[?25hdone\n",
            "  Created wheel for python-docx: filename=python_docx-0.8.11-py3-none-any.whl size=184489 sha256=165ae04c482d81f65738a9cb958ae6a04ee2cd19cdbc2a11123225f0409842c5\n",
            "  Stored in directory: /root/.cache/pip/wheels/80/27/06/837436d4c3bd989b957a91679966f207bfd71d358d63a8194d\n",
            "Successfully built python-docx\n",
            "Installing collected packages: python-docx\n",
            "Successfully installed python-docx-0.8.11\n"
          ]
        }
      ]
    },
    {
      "cell_type": "code",
      "source": [
        "from docx import Document\n",
        "import json\n",
        "\n",
        "def create_resume_doc(json_data, output_filename):\n",
        "    # Create a new Word document\n",
        "    doc = Document()\n",
        "\n",
        "    # Loop through the JSON data and add sections to the document\n",
        "    for section, content in json_data.items():\n",
        "        doc.add_heading(section, level=2)\n",
        "        if isinstance(content, dict):\n",
        "            for key, value in content.items():\n",
        "                doc.add_paragraph(f\"{key}: {value}\")\n",
        "        elif isinstance(content, list):\n",
        "            for item in content:\n",
        "                if isinstance(item, dict):\n",
        "                    for key, value in item.items():\n",
        "                        doc.add_paragraph(f\"{key}: {value}\")\n",
        "                else:\n",
        "                    doc.add_paragraph(item)\n",
        "        else:\n",
        "            doc.add_paragraph(content)\n",
        "\n",
        "    doc.save(output_filename)\n"
      ],
      "metadata": {
        "id": "KipBhCnf-FQ3"
      },
      "execution_count": null,
      "outputs": []
    },
    {
      "cell_type": "code",
      "source": [
        "data_dict = json.loads(rr_3)\n"
      ],
      "metadata": {
        "id": "j6lnnSaY_EiE"
      },
      "execution_count": null,
      "outputs": []
    },
    {
      "cell_type": "code",
      "source": [
        "data_dict"
      ],
      "metadata": {
        "colab": {
          "base_uri": "https://localhost:8080/"
        },
        "id": "ErPGY1r1_MfD",
        "outputId": "0feea485-e9a3-4106-fed7-81c3850766c2"
      },
      "execution_count": null,
      "outputs": [
        {
          "output_type": "execute_result",
          "data": {
            "text/plain": [
              "{'Personal Information': {'Name': 'Jane Doe',\n",
              "  'Address': '123 Main St, City, State 12345',\n",
              "  'Phone': '(123) 456-7890',\n",
              "  'Email': 'jane.doe@example.com'},\n",
              " 'Objective': 'Accomplished data scientist with over 7 years of experience in utilizing data-driven decision making to solve complex business problems. Looking to leverage my extensive background in machine learning, data mining, and predictive modeling to establish data science capabilities within CITGO and drive data-driven decision making.',\n",
              " 'Education': {'Degree': 'Master of Science in Data Science',\n",
              "  'University': 'XYZ University',\n",
              "  'Dates': 'August 2010 - May 2012'},\n",
              " 'Skills': {'Programming Languages': 'Python, R, SQL, Java',\n",
              "  'Libraries': 'NumPy, Pandas, Matplotlib, Seaborn, Scikit-learn, TensorFlow',\n",
              "  'Tools': 'Jupyter Notebooks, Tableau, Apache Spark, Hadoop',\n",
              "  'Machine Learning': 'Deep Learning, Reinforcement Learning, Natural Language Processing',\n",
              "  'Cloud Computing Platforms': 'Azure',\n",
              "  'Other': 'Strong leadership and project management skills'},\n",
              " 'Projects': [{'Title': 'Fraud Detection System',\n",
              "   'Description': 'Designed and developed a fraud detection system using machine learning models which reduced the fraudulent transactions by 30%. Implemented the system within a cloud computing environment on Azure.'},\n",
              "  {'Title': 'Predictive Maintenance of Industrial Machines',\n",
              "   'Description': 'Implemented predictive analytics to anticipate the failure of machine parts which decreased the maintenance cost by 20%. Utilized cloud computing platforms for scalable data processing and storage.'}],\n",
              " 'Work Experience': [{'Title': 'Senior Data Scientist',\n",
              "   'Company': 'Company ABC',\n",
              "   'Location': 'City, State',\n",
              "   'Dates': 'June 2016 - May 2020',\n",
              "   'Responsibilities': 'Led a team of 5 data scientists to manage machine learning and data science projects from conception to execution. Developed predictive models using machine learning algorithms to drive strategic decisions, resulting in a 25% increase in marketing campaign effectiveness.'},\n",
              "  {'Title': 'Data Scientist',\n",
              "   'Company': 'Company XYZ',\n",
              "   'Location': 'City, State',\n",
              "   'Dates': 'May 2012 - June 2016',\n",
              "   'Responsibilities': 'Managed and analyzed big data, implemented machine learning models for various business needs. Assisted in creating a recommendation engine for the e-commerce platform, resulting in a 20% increase in sales.'}],\n",
              " 'Career Break Summary': 'I am a confident and capable data scientist with over 7 years of experience in utilizing data-driven decision making to solve complex business problems. I took a career break from May 2020 to the present while providing care for a relative. During this break, I have taken on volunteering work and part-time projects to refresh my skills and stay updated with industry trends.',\n",
              " 'Certifications': ['Certified Data Scientist – Data Science Council of America (DASCA)',\n",
              "  'Advanced SQL for Data Scientists – Coursera'],\n",
              " 'References': 'Available upon request'}"
            ]
          },
          "metadata": {},
          "execution_count": 47
        }
      ]
    },
    {
      "cell_type": "code",
      "source": [
        "\n",
        "create_resume_doc(data_dict, '/content/drive/MyDrive/capstone/resume.docx')"
      ],
      "metadata": {
        "id": "dNXnGkrqAMZY"
      },
      "execution_count": null,
      "outputs": []
    },
    {
      "cell_type": "code",
      "source": [],
      "metadata": {
        "id": "uz8XScjhA1My"
      },
      "execution_count": null,
      "outputs": []
    }
  ]
}